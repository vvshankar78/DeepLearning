{
  "nbformat": 4,
  "nbformat_minor": 0,
  "metadata": {
    "colab": {
      "name": "TinyImagenet_2.ipynb",
      "provenance": []
    },
    "kernelspec": {
      "name": "python3",
      "display_name": "Python 3"
    },
    "language_info": {
      "name": "python"
    },
    "accelerator": "GPU"
  },
  "cells": [
    {
      "cell_type": "code",
      "metadata": {
        "id": "SaTp4vxKT6JW"
      },
      "source": [
        "import requests, zipfile, io\n",
        "import sys, os\n",
        "import json\n",
        "import pandas as pd\n",
        "import numpy as np\n",
        "import seaborn as sns\n",
        "import matplotlib.pyplot as plt\n",
        "import torchvision\n",
        "# Download Data\n",
        "import requests, zipfile, io\n",
        "from torch.utils.data import DataLoader\n",
        "from torchvision import datasets, transforms\n",
        "import os\n",
        "import torch\n",
        "import torch.nn as nn\n",
        "import torch.nn.functional as F\n",
        "import torch.optim as optim\n",
        "from torchvision import models\n",
        "from torch.optim import lr_scheduler\n",
        "from torch.optim.lr_scheduler import OneCycleLR, ReduceLROnPlateau\n",
        "\n",
        "import os\n",
        "import urllib.request\n",
        "import zipfile\n",
        "from random import shuffle\n",
        "from math import floor\n"
      ],
      "execution_count": 1,
      "outputs": []
    },
    {
      "cell_type": "code",
      "metadata": {
        "id": "3fFQwr-lT3Ec"
      },
      "source": [
        "class ModelConfig(object):\n",
        "\n",
        "\tdef __init__(self,):\n",
        "\t\tsuper(ModelConfig, self).__init__()\n",
        "\t\tself.seed = 1\n",
        "\t\tself.batch_size_cuda = 256\n",
        "\t\tself.batch_size_cpu = 128\n",
        "\t\tself.num_workers = 4\n",
        "\t\t# Regularization\n",
        "\t\tself.dropout = 0\n",
        "\t\tself.l1_decay = 0\n",
        "\t\tself.l2_decay = 5e-3\n",
        "\t\tself.lr = 0.001\n",
        "\t\tself.momentum = 0.9\n",
        "\t\tself.epochs = 15\n",
        "\t\tself.train_data_path = \"/content/tiny-imagenet-200/train\"\n",
        "\t\tself.url = \"http://cs231n.stanford.edu/tiny-imagenet-200.zip\"\n",
        "\t\tself.target_zip = \"/tiny-imagenet-200.zip\"\n",
        "\t\tself.test_data_path = \"/content/tiny-imagenet-200/val\"\n",
        "\n",
        "\n",
        "\tdef print_config(self):\n",
        "\t\tprint(\"Model Parameters:\")\n",
        "\t\tpprint.pprint(vars(self), indent=2)"
      ],
      "execution_count": 17,
      "outputs": []
    },
    {
      "cell_type": "code",
      "metadata": {
        "colab": {
          "base_uri": "https://localhost:8080/"
        },
        "id": "0xVCOK6xT8IA",
        "outputId": "14e78124-2082-4365-b532-e0e3edd967aa"
      },
      "source": [
        "# View model config\n",
        "args = ModelConfig()\n",
        "args.print_config()\n",
        "print()\n",
        "# Set seed\n",
        "init_seed(args)"
      ],
      "execution_count": 18,
      "outputs": [
        {
          "output_type": "stream",
          "text": [
            "Model Parameters:\n",
            "{ 'batch_size_cpu': 128,\n",
            "  'batch_size_cuda': 256,\n",
            "  'dropout': 0,\n",
            "  'epochs': 15,\n",
            "  'l1_decay': 0,\n",
            "  'l2_decay': 0.005,\n",
            "  'lr': 0.001,\n",
            "  'momentum': 0.9,\n",
            "  'num_workers': 4,\n",
            "  'seed': 1,\n",
            "  'target_zip': '/tiny-imagenet-200.zip',\n",
            "  'test_data_path': '/content/tiny-imagenet-200/val',\n",
            "  'train_data_path': '/content/tiny-imagenet-200/train',\n",
            "  'url': 'http://cs231n.stanford.edu/tiny-imagenet-200.zip'}\n",
            "\n",
            "CUDA Available\n"
          ],
          "name": "stdout"
        }
      ]
    },
    {
      "cell_type": "code",
      "metadata": {
        "colab": {
          "base_uri": "https://localhost:8080/"
        },
        "id": "X1WRkvqhR2a2",
        "outputId": "e17d660e-68dd-4ba0-9742-bcd3e9b65d39"
      },
      "source": [
        "def download_dataset(args):\n",
        "\tprint('Beginning dataset download with urllib2')\n",
        "\turl = args.url\n",
        "  # url = args.url\n",
        "\t# url = \"http://cs231n.stanford.edu/tiny-imagenet-200.zip\"\n",
        "\ttemp = '%s'+args.target_zip\n",
        "\tpath = temp % os.getcwd()\n",
        "\t# path = \"%s/tiny-imagenet-200.zip\" % os.getcwd()\n",
        "\turllib.request.urlretrieve(url, path)\n",
        "\tprint(\"Dataset downloaded\")\n",
        " \n",
        "download_dataset(args)"
      ],
      "execution_count": 27,
      "outputs": [
        {
          "output_type": "stream",
          "text": [
            "Beginning dataset download with urllib2\n",
            "Dataset downloaded\n"
          ],
          "name": "stdout"
        }
      ]
    },
    {
      "cell_type": "code",
      "metadata": {
        "colab": {
          "base_uri": "https://localhost:8080/"
        },
        "id": "3up6xwoTR2YF",
        "outputId": "1668ca67-dfea-47ea-8082-8b1f42b18bf8"
      },
      "source": [
        "def unzip_data(args):\n",
        "\ttemp = '%s'+args.target_zip\n",
        "\tpath_to_zip_file = temp % os.getcwd()\n",
        "\t# path_to_zip_file = \"%s/tiny-imagenet-200.zip\" % os.getcwd()\n",
        "\tdirectory_to_extract_to = os.getcwd()\n",
        "\tprint(\"Extracting zip file: %s\" % path_to_zip_file)\n",
        "\twith zipfile.ZipFile(path_to_zip_file, 'r') as zip_ref:\n",
        "\t\tzip_ref.extractall(directory_to_extract_to)\n",
        "\tprint(\"Extracted at: %s\" % directory_to_extract_to)\n",
        "\n",
        "unzip_data(args)"
      ],
      "execution_count": 4,
      "outputs": [
        {
          "output_type": "stream",
          "text": [
            "Extracting zip file: /content/tiny-imagenet-200.zip\n",
            "Extracted at: /content\n"
          ],
          "name": "stdout"
        }
      ]
    },
    {
      "cell_type": "code",
      "metadata": {
        "id": "zZswc9YJR2VR"
      },
      "source": [
        "def format_val():\n",
        "\tval_dir = \"%s/tiny-imagenet-200/val\" % os.getcwd()\n",
        "\tprint(\"Formatting: %s\" % val_dir)\n",
        "\tval_annotations = \"%s/val_annotations.txt\" % val_dir\n",
        "\tval_dict = {}\n",
        "\twith open(val_annotations, 'r') as f:\n",
        "\t\tfor line in f:\n",
        "\t\t\tline = line.strip().split()\n",
        "\t\t\tassert(len(line) == 6)\n",
        "\t\t\twnind = line[1]\n",
        "\t\t\timg_name = line[0]\n",
        "\t\t\tboxes = '\\t'.join(line[2:])\n",
        "\t\t\tif wnind not in val_dict:\n",
        "\t\t\t\tval_dict[wnind] = []\n",
        "\t\t\tentries = val_dict[wnind]\n",
        "\t\t\tentries.append((img_name, boxes))\n",
        "\tassert(len(val_dict) == 200)\n",
        "\tfor wnind, entries in val_dict.items():\n",
        "\t\tval_wnind_dir = \"%s/%s\" % (val_dir, wnind)\n",
        "\t\tval_images_dir = \"%s/images\" % val_dir\n",
        "\t\tval_wnind_images_dir = \"%s/images\" % val_wnind_dir\n",
        "\t\tos.mkdir(val_wnind_dir)\n",
        "\t\tos.mkdir(val_wnind_images_dir)\n",
        "\t\twnind_boxes = \"%s/%s_boxes.txt\" % (val_wnind_dir, wnind)\n",
        "\t\tf = open(wnind_boxes, \"w\")\n",
        "\t\tfor img_name, box in entries:\n",
        "\t\t\tsource = \"%s/%s\" % (val_images_dir, img_name)\n",
        "\t\t\tdst = \"%s/%s\" % (val_wnind_images_dir, img_name)\n",
        "\t\t\tos.system(\"cp %s %s\" % (source, dst))\n",
        "\t\t\tf.write(\"%s\\t%s\\n\" % (img_name, box))\n",
        "\t\tf.close()\n",
        "\tos.system(\"rm -rf %s\" % val_images_dir)\n",
        "\tprint(\"Cleaning up: %s\" % val_images_dir)\n",
        "\tprint(\"Formatting val done\")"
      ],
      "execution_count": 5,
      "outputs": []
    },
    {
      "cell_type": "code",
      "metadata": {
        "colab": {
          "base_uri": "https://localhost:8080/"
        },
        "id": "lZHhpGezR2SF",
        "outputId": "ad1da1bb-baf0-4e36-adb8-319c8601c561"
      },
      "source": [
        "format_val()"
      ],
      "execution_count": 6,
      "outputs": [
        {
          "output_type": "stream",
          "text": [
            "Formatting: /content/tiny-imagenet-200/val\n",
            "Cleaning up: /content/tiny-imagenet-200/val/images\n",
            "Formatting val done\n"
          ],
          "name": "stdout"
        }
      ]
    },
    {
      "cell_type": "code",
      "metadata": {
        "id": "qNuWN9uZSkXW"
      },
      "source": [
        "from albumentations import (\n",
        "\tCompose,\n",
        "    HorizontalFlip,\n",
        "    Normalize,\n",
        "    RandomCrop,\n",
        "    PadIfNeeded,\n",
        "    RGBShift,\n",
        "    Rotate\n",
        ")\n",
        "from albumentations.pytorch import ToTensor\n",
        "import numpy as np\n",
        "import torchvision.transforms as transforms\n",
        "\n",
        "def albumentations_transforms(p=1.0, is_train=False):\n",
        "\t# Mean and standard deviation of train dataset\n",
        "\tmean = np.array([0.4914, 0.4822, 0.4465])\n",
        "\tstd = np.array([0.2023, 0.1994, 0.2010])\n",
        "\ttransforms_list = []\n",
        "\t# Use data aug only for train data\n",
        "\tif is_train:\n",
        "\t\ttransforms_list.extend([\n",
        "\t\t\tPadIfNeeded(min_height=72, min_width=72, p=1.0),\n",
        "\t\t\tRandomCrop(height=64, width=64, p=1.0),\n",
        "\t\t\tHorizontalFlip(p=0.25),\n",
        "\t\t\tRotate(limit=15, p=0.25),\n",
        "\t\t\tRGBShift(r_shift_limit=20, g_shift_limit=20, b_shift_limit=20, p=0.25),\n",
        "\t\t\t#CoarseDropout(max_holes=1, max_height=32, max_width=32, min_height=8,\n",
        "\t\t\t\t\t\t#min_width=8, fill_value=mean*255.0, p=0.5),\n",
        "\t\t])\n",
        "\ttransforms_list.extend([\n",
        "\t\tNormalize(\n",
        "\t\t\tmean=mean,\n",
        "\t\t\tstd=std,\n",
        "\t\t\tmax_pixel_value=255.0,\n",
        "\t\t\tp=1.0\n",
        "\t\t),\n",
        "\t\tToTensor()\n",
        "\t])\n",
        "\tdata_transforms = Compose(transforms_list, p=p)\n",
        "\treturn lambda img: data_transforms(image=np.array(img))[\"image\"]\n",
        "\n",
        "def torch_transforms(is_train=False):\n",
        "\t# Mean and standard deviation of train dataset\n",
        "\tmean = (0.4914, 0.4822, 0.4465)\n",
        "\tstd = (0.2023, 0.1994, 0.2010)\n",
        "\ttransforms_list = []\n",
        "\t# Use data aug only for train data\n",
        "\tif is_train:\n",
        "\t\ttransforms_list.extend([\n",
        "\t\t\ttransforms.RandomCrop(64, padding=4),\n",
        "\t\t\ttransforms.RandomHorizontalFlip(),\n",
        "\t\t])\n",
        "\ttransforms_list.extend([\n",
        "\t\ttransforms.ToTensor(),\n",
        "\t\ttransforms.Normalize(mean, std),\n",
        "\t])\n",
        "\tif is_train:\n",
        "\t\ttransforms_list.extend([\n",
        "\t\t\ttransforms.RandomErasing(0.25)\n",
        "\t\t])\n",
        "\treturn transforms.Compose(transforms_list)"
      ],
      "execution_count": 7,
      "outputs": []
    },
    {
      "cell_type": "code",
      "metadata": {
        "id": "jkzm7UIjSkT1"
      },
      "source": [
        "class DataEngine(object):\n",
        "\n",
        "\tclasses = [\"%s\" % i for i in range(200)]\n",
        "\n",
        "\tdef __init__(self, args):\n",
        "\t\tsuper(DataEngine, self).__init__()\n",
        "\t\tself.batch_size_cuda = args.batch_size_cuda\n",
        "\t\tself.batch_size_cpu = args.batch_size_cpu\n",
        "\t\tself.num_workers = args.num_workers\n",
        "\t\tself.train_data_path = args.train_data_path\n",
        "\t\tself.test_data_path = args.test_data_path\n",
        "\t\tself.load()\n",
        "\n",
        "\n",
        "\tdef _transforms(self):\n",
        "\t\t# Data Transformations\n",
        "\t\ttrain_transform = albumentations_transforms(p=1.0, is_train=True)\n",
        "\t\ttest_transform = albumentations_transforms(p=1.0, is_train=False)\n",
        "\t\treturn train_transform, test_transform\n",
        "\n",
        "\tdef _dataset(self):\n",
        "\t\t# Get data transforms\n",
        "\t\ttrain_transform, test_transform = self._transforms()\n",
        "\n",
        "\t\t# Dataset and Creating Train/Test Split\n",
        "\t\ttrain_set = torchvision.datasets.ImageFolder(root=self.train_data_path,\n",
        "\t\t\ttransform=train_transform)\n",
        "\t\ttest_set = torchvision.datasets.ImageFolder(root=self.test_data_path,\n",
        "\t\t\ttransform=test_transform)\n",
        "\t\treturn train_set, test_set\n",
        "\n",
        "\tdef load(self):\n",
        "\t\t# Get Train and Test Data\n",
        "\t\ttrain_set, test_set = self._dataset()\n",
        "\n",
        "\t\t# Dataloader Arguments & Test/Train Dataloaders\n",
        "\t\tdataloader_args = dict(\n",
        "\t\t\tshuffle= True,\n",
        "\t\t\tbatch_size= self.batch_size_cpu)\n",
        "\t\tif has_cuda():\n",
        "\t\t\tdataloader_args.update(\n",
        "\t\t\t\tbatch_size= self.batch_size_cuda,\n",
        "\t\t\t\tnum_workers= self.num_workers,\n",
        "\t\t\t\tpin_memory= True)\n",
        "\n",
        "\t\tself.train_loader = torch.utils.data.DataLoader(train_set, **dataloader_args)\n",
        "\t\tself.test_loader = torch.utils.data.DataLoader(test_set, **dataloader_args)\n",
        "\n",
        "\tdef show_samples(self):\n",
        "\t\t# get some random training images\n",
        "\t\tdataiter = iter(self.train_loader)\n",
        "\t\timages, labels = dataiter.next()\n",
        "\t\tindex = []\n",
        "\t\tnum_img = min(len(self.classes), 10)\n",
        "\t\tfor i in range(num_img):\n",
        "\t\t\tfor j in range(len(labels)):\n",
        "\t\t\t\tif labels[j] == i:\n",
        "\t\t\t\t\tindex.append(j)\n",
        "\t\t\t\t\tbreak\n",
        "\t\tif len(index) < num_img:\n",
        "\t\t\tfor j in range(len(labels)):\n",
        "\t\t\t\tif len(index) == num_img:\n",
        "\t\t\t\t\tbreak\n",
        "\t\t\t\tif j not in index:\n",
        "\t\t\t\t\tindex.append(j)\n",
        "\t\timshow(torchvision.utils.make_grid(images[index],\n",
        "\t\t\t\tnrow=num_img, scale_each=True), \"Sample train data\")"
      ],
      "execution_count": 8,
      "outputs": []
    },
    {
      "cell_type": "code",
      "metadata": {
        "id": "vvyIyYfXSkQY"
      },
      "source": [
        "# import torch\n",
        "# import torchvision\n",
        "\n",
        "# from .data_transforms import albumentations_transforms, torch_transforms\n",
        "# from utils import has_cuda, imshow\n",
        "\n",
        "def show_model_summary(model, input_size):\n",
        "\tprint(summary(model, input_size=input_size))\n",
        "\n",
        "\n",
        "def imshow(img, title):\n",
        "\timg = denormalize(img)\n",
        "\tnpimg = img.numpy()\n",
        "\tfig = plt.figure(figsize=(15,7))\n",
        "\tplt.imshow(np.transpose(npimg, (1, 2, 0)))\n",
        "\tplt.title(title)\n",
        "\n",
        "\n",
        "def normalize(tensor, mean=[0.4914, 0.4822, 0.4465],\n",
        "\t\t\t\t\t\tstd=[0.2023, 0.1994, 0.2010]):\n",
        "\tsingle_img = False\n",
        "\tif tensor.ndimension() == 3:\n",
        "\t\tsingle_img = True\n",
        "\t\ttensor = tensor[None,:,:,:]\n",
        "\n",
        "\tif not tensor.ndimension() == 4:\n",
        "\t    raise TypeError('tensor should be 4D')\n",
        "\n",
        "\tmean = torch.FloatTensor(mean).view(1, 3, 1, 1).expand_as(tensor).to(tensor.device)\n",
        "\tstd = torch.FloatTensor(std).view(1, 3, 1, 1).expand_as(tensor).to(tensor.device)\n",
        "\tret = tensor.sub(mean).div(std)\n",
        "\treturn ret[0] if single_img else ret\n",
        "\n",
        "def denormalize(tensor, mean=[0.4914, 0.4822, 0.4465],\n",
        "\t\t\t\t\t\tstd=[0.2023, 0.1994, 0.2010]):\n",
        "\tsingle_img = False\n",
        "\tif tensor.ndimension() == 3:\n",
        "\t\tsingle_img = True\n",
        "\t\ttensor = tensor[None,:,:,:]\n",
        "\n",
        "\tif not tensor.ndimension() == 4:\n",
        "\t    raise TypeError('tensor should be 4D')\n",
        "\n",
        "\tmean = torch.FloatTensor(mean).view(1, 3, 1, 1).expand_as(tensor).to(tensor.device)\n",
        "\tstd = torch.FloatTensor(std).view(1, 3, 1, 1).expand_as(tensor).to(tensor.device)\n",
        "\tret = tensor.mul(std).add(mean)\n",
        "\treturn ret[0] if single_img else ret\n",
        "\n"
      ],
      "execution_count": 9,
      "outputs": []
    },
    {
      "cell_type": "code",
      "metadata": {
        "colab": {
          "base_uri": "https://localhost:8080/",
          "height": 35
        },
        "id": "qvu-YsBWSRm8",
        "outputId": "0962ab80-333a-40b2-ab99-1c17f409b38e"
      },
      "source": [
        "# zip_path = \"/tiny-imagenet-200.zip\"\n",
        "# temp = '%s'+ zip_path\n",
        "# path = temp % os.getcwd()\n",
        "# path"
      ],
      "execution_count": 9,
      "outputs": [
        {
          "output_type": "execute_result",
          "data": {
            "application/vnd.google.colaboratory.intrinsic+json": {
              "type": "string"
            },
            "text/plain": [
              "'/content/tiny-imagenet-200.zip'"
            ]
          },
          "metadata": {
            "tags": []
          },
          "execution_count": 9
        }
      ]
    },
    {
      "cell_type": "code",
      "metadata": {
        "colab": {
          "base_uri": "https://localhost:8080/"
        },
        "id": "IRFH5GqLSkM2",
        "outputId": "4c1c681d-a44e-4368-8e96-e145acc44c54"
      },
      "source": [
        "import pprint\n",
        "\n",
        "\n",
        "def has_cuda():\n",
        "\treturn torch.cuda.is_available()\n",
        " \n",
        "def init_seed(args):\n",
        "\ttorch.manual_seed(args.seed)\n",
        "\n",
        "\tif has_cuda():\n",
        "\t\tprint(\"CUDA Available\")\n",
        "\t\ttorch.cuda.manual_seed(args.seed)\n",
        "\n",
        "\n",
        "\n",
        "def test_config():\n",
        "\targs = ModelConfig()\n",
        "\targs.print_config()\n",
        "\n",
        "if __name__ == '__main__':\n",
        "\ttest_config()\n",
        "\n",
        "\n",
        "\n"
      ],
      "execution_count": 16,
      "outputs": [
        {
          "output_type": "stream",
          "text": [
            "Model Parameters:\n",
            "{ 'batch_size_cpu': 128,\n",
            "  'batch_size_cuda': 256,\n",
            "  'dropout': 0,\n",
            "  'epochs': 15,\n",
            "  'l1_decay': 0,\n",
            "  'l2_decay': 0.005,\n",
            "  'lr': 0.001,\n",
            "  'momentum': 0.9,\n",
            "  'num_workers': 4,\n",
            "  'seed': 1,\n",
            "  'target_zip': '/tiny-imagenet-200.zip',\n",
            "  'test_data_path': '/content/tiny-imagenet-200/val',\n",
            "  'train_data_path': '/content/tiny-imagenet-200/train',\n",
            "  'url': 'http://cs231n.stanford.edu/tiny-imagenet-200.zip'}\n",
            "Model Parameters:\n",
            "{ 'batch_size_cpu': 128,\n",
            "  'batch_size_cuda': 256,\n",
            "  'dropout': 0,\n",
            "  'epochs': 15,\n",
            "  'l1_decay': 0,\n",
            "  'l2_decay': 0.005,\n",
            "  'lr': 0.001,\n",
            "  'momentum': 0.9,\n",
            "  'num_workers': 4,\n",
            "  'seed': 1,\n",
            "  'target_zip': '/tiny-imagenet-200.zip',\n",
            "  'test_data_path': '/content/tiny-imagenet-200/val',\n",
            "  'train_data_path': '/content/tiny-imagenet-200/train',\n",
            "  'url': 'http://cs231n.stanford.edu/tiny-imagenet-200.zip'}\n",
            "\n",
            "CUDA Available\n"
          ],
          "name": "stdout"
        }
      ]
    },
    {
      "cell_type": "code",
      "metadata": {
        "colab": {
          "base_uri": "https://localhost:8080/"
        },
        "id": "Ek2eOJK6SkJS",
        "outputId": "9ac3a440-07a8-44f2-98d3-6247dcbc653f"
      },
      "source": [
        "data = DataEngine(args)"
      ],
      "execution_count": 11,
      "outputs": [
        {
          "output_type": "stream",
          "text": [
            "/usr/local/lib/python3.7/dist-packages/torch/utils/data/dataloader.py:481: UserWarning: This DataLoader will create 4 worker processes in total. Our suggested max number of worker in current system is 2, which is smaller than what this DataLoader is going to create. Please be aware that excessive worker creation might get DataLoader running slow or even freeze, lower the worker number to avoid potential slowness/freeze if necessary.\n",
            "  cpuset_checked))\n"
          ],
          "name": "stderr"
        }
      ]
    },
    {
      "cell_type": "code",
      "metadata": {
        "colab": {
          "base_uri": "https://localhost:8080/",
          "height": 206
        },
        "id": "HJ12PhkaSkBB",
        "outputId": "b01c396b-763f-4131-b835-a885874b5e18"
      },
      "source": [
        "data.show_samples()"
      ],
      "execution_count": 12,
      "outputs": [
        {
          "output_type": "stream",
          "text": [
            "/usr/local/lib/python3.7/dist-packages/torch/utils/data/dataloader.py:481: UserWarning: This DataLoader will create 4 worker processes in total. Our suggested max number of worker in current system is 2, which is smaller than what this DataLoader is going to create. Please be aware that excessive worker creation might get DataLoader running slow or even freeze, lower the worker number to avoid potential slowness/freeze if necessary.\n",
            "  cpuset_checked))\n"
          ],
          "name": "stderr"
        },
        {
          "output_type": "display_data",
          "data": {
            "image/png": "[encoded data removed]",
            "text/plain": [
              "<Figure size 1080x504 with 1 Axes>"
            ]
          },
          "metadata": {
            "tags": [],
            "needs_background": "light"
          }
        }
      ]
    },
    {
      "cell_type": "code",
      "metadata": {
        "colab": {
          "base_uri": "https://localhost:8080/"
        },
        "id": "jYZDCOZ_R2Oi",
        "outputId": "3b1940c5-ebac-4330-d6ed-1346bf23800f"
      },
      "source": [
        "img, label = next(iter(data.train_loader))"
      ],
      "execution_count": 13,
      "outputs": [
        {
          "output_type": "stream",
          "text": [
            "/usr/local/lib/python3.7/dist-packages/torch/utils/data/dataloader.py:481: UserWarning: This DataLoader will create 4 worker processes in total. Our suggested max number of worker in current system is 2, which is smaller than what this DataLoader is going to create. Please be aware that excessive worker creation might get DataLoader running slow or even freeze, lower the worker number to avoid potential slowness/freeze if necessary.\n",
            "  cpuset_checked))\n"
          ],
          "name": "stderr"
        }
      ]
    },
    {
      "cell_type": "code",
      "metadata": {
        "colab": {
          "base_uri": "https://localhost:8080/"
        },
        "id": "CgwSWdXkR2LT",
        "outputId": "709dc31b-f1c0-42da-ec9c-15a63d226468"
      },
      "source": [
        "label"
      ],
      "execution_count": 14,
      "outputs": [
        {
          "output_type": "execute_result",
          "data": {
            "text/plain": [
              "tensor([126, 138,   6, 125,  15, 121,  20,  13,  35, 190,  63,  53,  39, 174,\n",
              "          3, 181, 111,  15,  79,  87,  43, 161, 193, 130,   5, 168,  49, 154,\n",
              "        123, 171, 125,   7, 187, 169, 174, 114,  86, 144, 173,  66,   0, 183,\n",
              "        150, 167,  57,  35,   2,  47, 136,  34, 177,  66, 135,   5,   9, 186,\n",
              "         13, 168,  56, 143, 194,  65, 147,   0,  67, 131,  50, 124,  82, 195,\n",
              "        128,  34,  84, 116,  23, 108, 116,  57, 101, 175,  74, 110,  24,  52,\n",
              "        150, 194, 145, 153,  44, 130, 139, 133,  35,   1, 172, 192, 116, 174,\n",
              "         38,  44,  10,  92, 193,  13,   1, 176,  53, 101, 167,   8, 195, 181,\n",
              "         35,  14,  84, 168,  36,  99,  67,  87,  87,  19, 131, 181, 199, 115,\n",
              "         95, 162, 176, 175, 112, 110,  10, 192, 111,  49,  83,  23,  65,  96,\n",
              "        157, 132, 153,   0,   2, 192, 114,  62, 161, 127, 163, 192,  47, 183,\n",
              "        126,   6, 158, 153,  26, 104,  96, 129, 196, 115,  31,  71,  53,  34,\n",
              "        127, 171, 132, 133,  26, 191, 180, 152,  33, 192, 128, 174,  69,  28,\n",
              "        142, 199, 188, 156,  94, 123, 132,  36, 181, 129,  28,  71,  24,  66,\n",
              "        116,  20, 155,  52,  95, 180,  39,  44, 102,  41, 109, 126,  41,  32,\n",
              "        165,  89,  98,  95,  15, 186,  40, 190, 110, 196, 109,  10,  21, 133,\n",
              "         57, 155, 160,  86, 130, 160, 177,   6,  44,   7, 122,  25, 116, 104,\n",
              "         15,  54,  35, 110,  38, 101,  32, 122, 158, 118, 136, 199,  81, 108,\n",
              "         46, 111,  61,  43])"
            ]
          },
          "metadata": {
            "tags": []
          },
          "execution_count": 14
        }
      ]
    },
    {
      "cell_type": "code",
      "metadata": {
        "colab": {
          "base_uri": "https://localhost:8080/"
        },
        "id": "-GG7TrnVQlt4",
        "outputId": "0b43d533-8dc8-4f3d-8179-996947033487"
      },
      "source": [
        "img, label = next(iter(data.test_loader))"
      ],
      "execution_count": 15,
      "outputs": [
        {
          "output_type": "stream",
          "text": [
            "/usr/local/lib/python3.7/dist-packages/torch/utils/data/dataloader.py:481: UserWarning: This DataLoader will create 4 worker processes in total. Our suggested max number of worker in current system is 2, which is smaller than what this DataLoader is going to create. Please be aware that excessive worker creation might get DataLoader running slow or even freeze, lower the worker number to avoid potential slowness/freeze if necessary.\n",
            "  cpuset_checked))\n"
          ],
          "name": "stderr"
        }
      ]
    },
    {
      "cell_type": "code",
      "metadata": {
        "colab": {
          "base_uri": "https://localhost:8080/"
        },
        "id": "knsxMKxfTSgj",
        "outputId": "856b5e18-a6e5-486e-e587-0ee0698ba016"
      },
      "source": [
        "label"
      ],
      "execution_count": 16,
      "outputs": [
        {
          "output_type": "execute_result",
          "data": {
            "text/plain": [
              "tensor([185, 136,   9, 135,  42, 172,  45, 170,  82,  65,  93,   8, 132, 146,\n",
              "        152, 123,  17,  18, 113,  76, 162, 179, 125,  64, 181, 155, 164, 141,\n",
              "         48, 113, 127,  87, 130, 173, 165,  22,  17, 165,   1, 124,  52,  50,\n",
              "         77,  66, 186,  16, 114, 131,  61, 117, 139,  11, 114, 135, 178, 149,\n",
              "        130, 155,  11, 148,  22,  68,  95, 195, 125, 181, 139, 160,  97, 132,\n",
              "         18, 116,  96,   2, 165, 171, 109, 196,  77,  35, 182, 177,   0, 101,\n",
              "        129,  97, 176, 191,  36, 147,  61,  81, 195,   9, 140, 156, 111, 105,\n",
              "        164,   6, 129,  94,  90, 172,  63,  57,  17,  66,  13,  96,  12,  66,\n",
              "         51, 146,   6, 151,  17,  46, 100,  62,  68,  36,   7, 122, 143,  72,\n",
              "         16,  35,  10, 197,  11,  20,  18, 145,  85, 163,  62,  78,  37, 151,\n",
              "          6, 115, 172, 102,  89, 176, 193,  80, 110,  48,  31,  21,  96,  38,\n",
              "        119,   1, 142,  97,  85, 119, 168, 135, 178,   5,  23, 102,  63,  54,\n",
              "         70, 144, 143,  14, 114,  15,  53,   1, 168, 164,  14,   0,  78, 197,\n",
              "         95, 144, 130, 104, 160,  58,  67, 147,  12, 148, 140, 173, 134,  70,\n",
              "        197,  20,  72,  72,  13, 120, 193,  57,  43,  77, 138, 132,  71,  17,\n",
              "         43, 143, 183, 165,   3,  98,  78, 155,  61,  86,  29, 122,  18, 156,\n",
              "         52, 183, 127, 127,  80, 197,  44, 104,   8,   9,   4,  52, 161, 116,\n",
              "        107,  80,  75, 137, 112, 119, 131,  42, 119, 101,  25,  95,  53, 181,\n",
              "        140,  25, 156,  94])"
            ]
          },
          "metadata": {
            "tags": []
          },
          "execution_count": 16
        }
      ]
    },
    {
      "cell_type": "code",
      "metadata": {
        "colab": {
          "base_uri": "https://localhost:8080/",
          "height": 305
        },
        "id": "QHeBBvWYTTXZ",
        "outputId": "6a736d0d-d1ec-4f6a-f7d1-a0c273aab22a"
      },
      "source": [
        "plt.imshow(img[0].numpy().squeeze().transpose(1,2,0), cmap='gray_r')"
      ],
      "execution_count": 17,
      "outputs": [
        {
          "output_type": "stream",
          "text": [
            "Clipping input data to the valid range for imshow with RGB data ([0..1] for floats or [0..255] for integers).\n"
          ],
          "name": "stderr"
        },
        {
          "output_type": "execute_result",
          "data": {
            "text/plain": [
              "<matplotlib.image.AxesImage at 0x7f7e8eb59290>"
            ]
          },
          "metadata": {
            "tags": []
          },
          "execution_count": 17
        },
        {
          "output_type": "display_data",
          "data": {
            "image/png": "[encoded data removed]",
            "text/plain": [
              "<Figure size 432x288 with 1 Axes>"
            ]
          },
          "metadata": {
            "tags": [],
            "needs_background": "light"
          }
        }
      ]
    },
    {
      "cell_type": "code",
      "metadata": {
        "id": "4N6aUC_6TaHA"
      },
      "source": [
        "import torch\n",
        "import torch.nn as nn\n",
        "import torch.nn.functional as F\n",
        "\n",
        "\n",
        "class BasicBlock(nn.Module):\n",
        "    expansion = 1\n",
        "\n",
        "    def __init__(self, in_planes, planes, stride=1, dropout=0.0):\n",
        "        super(BasicBlock, self).__init__()\n",
        "        self.conv1 = nn.Conv2d(in_planes, planes, kernel_size=3, stride=stride, padding=1, bias=False)\n",
        "        self.bn1 = nn.BatchNorm2d(planes)\n",
        "        self.conv2 = nn.Conv2d(planes, planes, kernel_size=3, stride=1, padding=1, bias=False)\n",
        "        self.bn2 = nn.BatchNorm2d(planes)\n",
        "\n",
        "        self.shortcut = nn.Sequential()\n",
        "        if stride != 1 or in_planes != self.expansion*planes:\n",
        "            self.shortcut = nn.Sequential(\n",
        "                nn.Conv2d(in_planes, self.expansion*planes, kernel_size=1, stride=stride, bias=False),\n",
        "                nn.BatchNorm2d(self.expansion*planes)\n",
        "            )\n",
        "        self.dropout = dropout\n",
        "\n",
        "    def forward(self, x):\n",
        "        out = F.relu(self.bn1(self.conv1(x)))\n",
        "        out = F.dropout(out, p=self.dropout)\n",
        "        out = self.bn2(self.conv2(out))\n",
        "        out = F.dropout(out, p=self.dropout)\n",
        "        out += self.shortcut(x)\n",
        "        out = F.relu(out)\n",
        "        out = F.dropout(out, p=self.dropout)\n",
        "        return out\n",
        "\n",
        "\n",
        "class Bottleneck(nn.Module):\n",
        "    expansion = 4\n",
        "\n",
        "    def __init__(self, in_planes, planes, stride=1):\n",
        "        super(Bottleneck, self).__init__()\n",
        "        self.conv1 = nn.Conv2d(in_planes, planes, kernel_size=1, bias=False)\n",
        "        self.bn1 = nn.BatchNorm2d(planes)\n",
        "        self.conv2 = nn.Conv2d(planes, planes, kernel_size=3, stride=stride, padding=1, bias=False)\n",
        "        self.bn2 = nn.BatchNorm2d(planes)\n",
        "        self.conv3 = nn.Conv2d(planes, self.expansion*planes, kernel_size=1, bias=False)\n",
        "        self.bn3 = nn.BatchNorm2d(self.expansion*planes)\n",
        "\n",
        "        self.shortcut = nn.Sequential()\n",
        "        if stride != 1 or in_planes != self.expansion*planes:\n",
        "            self.shortcut = nn.Sequential(\n",
        "                nn.Conv2d(in_planes, self.expansion*planes, kernel_size=1, stride=stride, bias=False),\n",
        "                nn.BatchNorm2d(self.expansion*planes)\n",
        "            )\n",
        "\n",
        "    def forward(self, x):\n",
        "        out = F.relu(self.bn1(self.conv1(x)))\n",
        "        out = F.relu(self.bn2(self.conv2(out)))\n",
        "        out = self.bn3(self.conv3(out))\n",
        "        out += self.shortcut(x)\n",
        "        out = F.relu(out)\n",
        "        return out\n",
        "\n",
        "\n",
        "class ResNet(nn.Module):\n",
        "    def __init__(self, block, num_blocks, num_classes=200, dropout=0.0):\n",
        "        super(ResNet, self).__init__()\n",
        "        self.in_planes = 64\n",
        "        self.dropout = dropout\n",
        "\n",
        "        self.conv1 = nn.Conv2d(3, 64, kernel_size=3, stride=1, padding=1, bias=False)\n",
        "        self.bn1 = nn.BatchNorm2d(64)\n",
        "        self.layer1 = self._make_layer(block, 64, num_blocks[0], stride=1)\n",
        "        self.layer2 = self._make_layer(block, 128, num_blocks[1], stride=2)\n",
        "        self.layer3 = self._make_layer(block, 256, num_blocks[2], stride=2)\n",
        "        self.layer4 = self._make_layer(block, 512, num_blocks[3], stride=2)\n",
        "        self.linear = nn.Linear(512*block.expansion, num_classes)\n",
        "\n",
        "    def _make_layer(self, block, planes, num_blocks, stride):\n",
        "        strides = [stride] + [1]*(num_blocks-1)\n",
        "        layers = []\n",
        "        for stride in strides:\n",
        "            layers.append(block(self.in_planes, planes, stride, dropout=self.dropout))\n",
        "            self.in_planes = planes * block.expansion\n",
        "        return nn.Sequential(*layers)\n",
        "\n",
        "    def forward(self, x):\n",
        "        out = F.relu(self.bn1(self.conv1(x)))\n",
        "        out = F.dropout(out, p=self.dropout)\n",
        "        out = self.layer1(out)\n",
        "        out = self.layer2(out)\n",
        "        out = self.layer3(out)\n",
        "        out = self.layer4(out)\n",
        "        out = F.adaptive_avg_pool2d(out, 1)\n",
        "        out = out.view(out.size(0), -1)\n",
        "        out = self.linear(out)\n",
        "        return out\n",
        "\n",
        "\n",
        "def ResNet18(num_classes=200, dropout=0.0):\n",
        "    return ResNet(BasicBlock, [2,2,2,2], num_classes=num_classes, dropout=dropout)\n",
        "\n",
        "def ResNet34():\n",
        "    return ResNet(BasicBlock, [3,4,6,3])\n",
        "\n",
        "def ResNet50():\n",
        "    return ResNet(Bottleneck, [3,4,6,3])\n",
        "\n",
        "def ResNet101():\n",
        "    return ResNet(Bottleneck, [3,4,23,3])\n",
        "\n",
        "def ResNet152():\n",
        "    return ResNet(Bottleneck, [3,8,36,3])\n",
        "\n",
        "\n",
        "def test():\n",
        "    net = ResNet18()\n",
        "    y = net(torch.randn(1,3,32,32))\n",
        "    print(y.size())\n",
        "\n",
        "# test()\n",
        "\n",
        "\n",
        "import torch\n",
        "from tqdm import tqdm\n",
        "\n",
        "def train(model, device, train_loader, criterion, optimizer, epoch,\n",
        "          l1_decay, l2_decay, train_losses, train_accs, scheduler=None):\n",
        "  model.train()\n",
        "  pbar = tqdm(train_loader)\n",
        "  correct = 0\n",
        "  processed = 0\n",
        "  avg_loss = 0\n",
        "  for batch_idx, (data, target) in enumerate(pbar):\n",
        "    # get samples\n",
        "    data, target = data.to(device), target.to(device)\n",
        "\n",
        "    # Init\n",
        "    optimizer.zero_grad()\n",
        "    # In PyTorch, we need to set the gradients to zero before starting to do backpropragation because PyTorch accumulates the gradients on subsequent backward passes. \n",
        "    # Because of this, when you start your training loop, ideally you should zero out the gradients so that you do the parameter update correctly.\n",
        "\n",
        "    # Predict\n",
        "    y_pred = model(data)\n",
        "\n",
        "    # Calculate loss\n",
        "    loss = criterion(y_pred, target)\n",
        "    if l1_decay > 0:\n",
        "      l1_loss = 0\n",
        "      for param in model.parameters():\n",
        "        l1_loss += torch.norm(param,1)\n",
        "      loss += l1_decay * l1_loss\n",
        "    if l2_decay > 0:\n",
        "      l2_loss = 0\n",
        "      for param in model.parameters():\n",
        "        l2_loss += torch.norm(param,2)\n",
        "      loss += l2_decay * l2_loss\n",
        "\n",
        "    # Backpropagation\n",
        "    loss.backward()\n",
        "    optimizer.step()\n",
        "    if scheduler:\n",
        "      scheduler.step()\n",
        "\n",
        "    # Update pbar-tqdm\n",
        "    pred = y_pred.argmax(dim=1, keepdim=True)  # get the index of the max log-probability\n",
        "    correct += pred.eq(target.view_as(pred)).sum().item()\n",
        "    processed += len(data)\n",
        "    avg_loss += loss.item()\n",
        "\n",
        "    pbar_str = f'Loss={loss.item():0.5f} Batch_id={batch_idx} Accuracy={100*correct/processed:0.2f}'\n",
        "    if l1_decay > 0:\n",
        "      pbar_str = f'L1_loss={l1_loss.item():0.3f} %s' % (pbar_str)\n",
        "    if l2_decay > 0:\n",
        "      pbar_str = f'L2_loss={l2_loss.item():0.3f} %s' % (pbar_str)\n",
        "\n",
        "    pbar.set_description(desc= pbar_str)\n",
        "\n",
        "  avg_loss /= len(train_loader)\n",
        "  avg_acc = 100*correct/processed\n",
        "  train_accs.append(avg_acc)\n",
        "  train_losses.append(avg_loss)\n",
        "\n",
        "\n",
        "def test(model, device, test_loader, criterion, classes, test_losses, test_accs,\n",
        "         misclassified_imgs, correct_imgs, is_last_epoch):\n",
        "    model.eval()\n",
        "    test_loss = 0\n",
        "    correct = 0\n",
        "    with torch.no_grad():\n",
        "        for data, target in test_loader:\n",
        "            data, target = data.to(device), target.to(device)\n",
        "            output = model(data)\n",
        "            test_loss +=criterion(output, target).item()  # sum up batch loss\n",
        "            pred = output.argmax(dim=1, keepdim=True)  # get the index of the max log-probability\n",
        "            is_correct = pred.eq(target.view_as(pred))\n",
        "            if is_last_epoch:\n",
        "              misclassified_inds = (is_correct==0).nonzero()[:,0]\n",
        "              for mis_ind in misclassified_inds:\n",
        "                if len(misclassified_imgs) == 25:\n",
        "                  break\n",
        "                misclassified_imgs.append({\n",
        "                    \"target\": target[mis_ind].cpu().numpy(),\n",
        "                    \"pred\": pred[mis_ind][0].cpu().numpy(),\n",
        "                    \"img\": data[mis_ind]\n",
        "                })\n",
        "              \n",
        "              correct_inds = (is_correct==1).nonzero()[:,0]\n",
        "              for ind in correct_inds:\n",
        "                if len(correct_imgs) == 25:\n",
        "                  break\n",
        "                correct_imgs.append({\n",
        "                    \"target\": target[ind].cpu().numpy(),\n",
        "                    \"pred\": pred[ind][0].cpu().numpy(),\n",
        "                    \"img\": data[ind]\n",
        "                })\n",
        "            correct += is_correct.sum().item()\n",
        "\n",
        "    test_loss /= len(test_loader)\n",
        "    test_losses.append(test_loss)\n",
        "    \n",
        "    test_acc = 100. * correct / len(test_loader.dataset)\n",
        "    test_accs.append(test_acc)\n",
        "\n",
        "    if test_acc >= 90.0:\n",
        "        classwise_acc(model, device, test_loader, classes)\n",
        "\n",
        "    print('Test set: Average loss: {:.4f}, Accuracy: {}/{} ({:.2f}%)\\n'.format(\n",
        "        test_loss, correct, len(test_loader.dataset), test_acc))\n",
        "\n",
        "def classwise_acc(model, device, test_loader, classes):\n",
        "    class_correct = list(0. for i in range(10))\n",
        "    class_total = list(0. for i in range(10))\n",
        "    with torch.no_grad():\n",
        "        for images, labels in test_loader:\n",
        "            images, labels = images.to(device), labels.to(device)\n",
        "            outputs = model(images)\n",
        "            _, predicted = torch.max(outputs, 1)\n",
        "            c = (predicted == labels).squeeze()\n",
        "            for i in range(4):\n",
        "                label = labels[i]\n",
        "                class_correct[label] += c[i].item()\n",
        "                class_total[label] += 1\n",
        "    \n",
        "    # print class-wise test accuracies\n",
        "    print()\n",
        "    for i in range(10):\n",
        "      print('Accuracy of %5s : %2d %%' % (\n",
        "          classes[i], 100 * class_correct[i] / class_total[i]))\n",
        "    print()\n",
        "\n"
      ],
      "execution_count": 18,
      "outputs": []
    },
    {
      "cell_type": "code",
      "metadata": {
        "colab": {
          "base_uri": "https://localhost:8080/"
        },
        "id": "uBLVm7ShTd2-",
        "outputId": "fcb2595d-e17d-433d-f735-62200f8afa66"
      },
      "source": [
        "from torchsummary import summary\n",
        "device = torch.device(\"cuda:0\" if torch.cuda.is_available() else \"cpu\")\n",
        "# device = which_device()\n",
        "model = ResNet18(num_classes=200).to(device)\n",
        "show_model_summary(model, (3,64,64))"
      ],
      "execution_count": 19,
      "outputs": [
        {
          "output_type": "stream",
          "text": [
            "----------------------------------------------------------------\n",
            "        Layer (type)               Output Shape         Param #\n",
            "================================================================\n",
            "            Conv2d-1           [-1, 64, 64, 64]           1,728\n",
            "       BatchNorm2d-2           [-1, 64, 64, 64]             128\n",
            "            Conv2d-3           [-1, 64, 64, 64]          36,864\n",
            "       BatchNorm2d-4           [-1, 64, 64, 64]             128\n",
            "            Conv2d-5           [-1, 64, 64, 64]          36,864\n",
            "       BatchNorm2d-6           [-1, 64, 64, 64]             128\n",
            "        BasicBlock-7           [-1, 64, 64, 64]               0\n",
            "            Conv2d-8           [-1, 64, 64, 64]          36,864\n",
            "       BatchNorm2d-9           [-1, 64, 64, 64]             128\n",
            "           Conv2d-10           [-1, 64, 64, 64]          36,864\n",
            "      BatchNorm2d-11           [-1, 64, 64, 64]             128\n",
            "       BasicBlock-12           [-1, 64, 64, 64]               0\n",
            "           Conv2d-13          [-1, 128, 32, 32]          73,728\n",
            "      BatchNorm2d-14          [-1, 128, 32, 32]             256\n",
            "           Conv2d-15          [-1, 128, 32, 32]         147,456\n",
            "      BatchNorm2d-16          [-1, 128, 32, 32]             256\n",
            "           Conv2d-17          [-1, 128, 32, 32]           8,192\n",
            "      BatchNorm2d-18          [-1, 128, 32, 32]             256\n",
            "       BasicBlock-19          [-1, 128, 32, 32]               0\n",
            "           Conv2d-20          [-1, 128, 32, 32]         147,456\n",
            "      BatchNorm2d-21          [-1, 128, 32, 32]             256\n",
            "           Conv2d-22          [-1, 128, 32, 32]         147,456\n",
            "      BatchNorm2d-23          [-1, 128, 32, 32]             256\n",
            "       BasicBlock-24          [-1, 128, 32, 32]               0\n",
            "           Conv2d-25          [-1, 256, 16, 16]         294,912\n",
            "      BatchNorm2d-26          [-1, 256, 16, 16]             512\n",
            "           Conv2d-27          [-1, 256, 16, 16]         589,824\n",
            "      BatchNorm2d-28          [-1, 256, 16, 16]             512\n",
            "           Conv2d-29          [-1, 256, 16, 16]          32,768\n",
            "      BatchNorm2d-30          [-1, 256, 16, 16]             512\n",
            "       BasicBlock-31          [-1, 256, 16, 16]               0\n",
            "           Conv2d-32          [-1, 256, 16, 16]         589,824\n",
            "      BatchNorm2d-33          [-1, 256, 16, 16]             512\n",
            "           Conv2d-34          [-1, 256, 16, 16]         589,824\n",
            "      BatchNorm2d-35          [-1, 256, 16, 16]             512\n",
            "       BasicBlock-36          [-1, 256, 16, 16]               0\n",
            "           Conv2d-37            [-1, 512, 8, 8]       1,179,648\n",
            "      BatchNorm2d-38            [-1, 512, 8, 8]           1,024\n",
            "           Conv2d-39            [-1, 512, 8, 8]       2,359,296\n",
            "      BatchNorm2d-40            [-1, 512, 8, 8]           1,024\n",
            "           Conv2d-41            [-1, 512, 8, 8]         131,072\n",
            "      BatchNorm2d-42            [-1, 512, 8, 8]           1,024\n",
            "       BasicBlock-43            [-1, 512, 8, 8]               0\n",
            "           Conv2d-44            [-1, 512, 8, 8]       2,359,296\n",
            "      BatchNorm2d-45            [-1, 512, 8, 8]           1,024\n",
            "           Conv2d-46            [-1, 512, 8, 8]       2,359,296\n",
            "      BatchNorm2d-47            [-1, 512, 8, 8]           1,024\n",
            "       BasicBlock-48            [-1, 512, 8, 8]               0\n",
            "           Linear-49                  [-1, 200]         102,600\n",
            "================================================================\n",
            "Total params: 11,271,432\n",
            "Trainable params: 11,271,432\n",
            "Non-trainable params: 0\n",
            "----------------------------------------------------------------\n",
            "Input size (MB): 0.05\n",
            "Forward/backward pass size (MB): 45.00\n",
            "Params size (MB): 43.00\n",
            "Estimated Total Size (MB): 88.05\n",
            "----------------------------------------------------------------\n",
            "None\n"
          ],
          "name": "stdout"
        }
      ]
    },
    {
      "cell_type": "code",
      "metadata": {
        "colab": {
          "base_uri": "https://localhost:8080/"
        },
        "id": "O7LWEXS9TueO",
        "outputId": "8541dd0e-30a4-43c3-aed2-c8acc8892b28"
      },
      "source": [
        "epochs = 30\n",
        "criterion = nn.CrossEntropyLoss()\n",
        "optimizer = optim.SGD(model.parameters(), lr=0.01, momentum=args.momentum)\n",
        "scheduler = OneCycleLR(optimizer, max_lr=0.02, steps_per_epoch=len(data.train_loader),\n",
        "                       epochs=epochs, div_factor=10, final_div_factor=10,\n",
        "                       pct_start=10/epochs)\n",
        "\n",
        "test_losses, train_losses, test_accs, train_accs = [], [], [], []\n",
        "misclassified_imgs, correct_imgs = [], []\n",
        "lr_trend = []\n",
        "def run(l1_decay=0.0, l2_decay=0.0):\n",
        "  for epoch in range(epochs):\n",
        "      lr_trend.append(optimizer.param_groups[0]['lr'])\n",
        "      print(f\"EPOCH: {epoch+1} (LR: {lr_trend[-1]:0.6f})\")\n",
        "      train(model, device, data.train_loader, criterion, optimizer, epoch,\n",
        "            l1_decay,l2_decay, train_losses, train_accs, scheduler)\n",
        "      test(model, device, data.test_loader, criterion, data.classes, test_losses,\n",
        "           test_accs, misclassified_imgs, correct_imgs, False)\n",
        "\n",
        "# train and test the model\n",
        "run(l1_decay=args.l1_decay, l2_decay=args.l2_decay)"
      ],
      "execution_count": 20,
      "outputs": [
        {
          "output_type": "stream",
          "text": [
            "\r  0%|          | 0/391 [00:00<?, ?it/s]"
          ],
          "name": "stderr"
        },
        {
          "output_type": "stream",
          "text": [
            "EPOCH: 1 (LR: 0.002000)\n"
          ],
          "name": "stdout"
        },
        {
          "output_type": "stream",
          "text": [
            "/usr/local/lib/python3.7/dist-packages/torch/utils/data/dataloader.py:481: UserWarning: This DataLoader will create 4 worker processes in total. Our suggested max number of worker in current system is 2, which is smaller than what this DataLoader is going to create. Please be aware that excessive worker creation might get DataLoader running slow or even freeze, lower the worker number to avoid potential slowness/freeze if necessary.\n",
            "  cpuset_checked))\n",
            "L2_loss=462.972 Loss=6.52807 Batch_id=390 Accuracy=6.27: 100%|██████████| 391/391 [03:26<00:00,  1.90it/s]\n",
            "  0%|          | 0/391 [00:00<?, ?it/s]"
          ],
          "name": "stderr"
        },
        {
          "output_type": "stream",
          "text": [
            "Test set: Average loss: 4.2245, Accuracy: 1035/10000 (10.35%)\n",
            "\n",
            "EPOCH: 2 (LR: 0.002441)\n"
          ],
          "name": "stdout"
        },
        {
          "output_type": "stream",
          "text": [
            "L2_loss=460.520 Loss=5.99102 Batch_id=390 Accuracy=15.17: 100%|██████████| 391/391 [03:25<00:00,  1.90it/s]\n",
            "  0%|          | 0/391 [00:00<?, ?it/s]"
          ],
          "name": "stderr"
        },
        {
          "output_type": "stream",
          "text": [
            "Test set: Average loss: 3.7674, Accuracy: 1647/10000 (16.47%)\n",
            "\n",
            "EPOCH: 3 (LR: 0.003720)\n"
          ],
          "name": "stdout"
        },
        {
          "output_type": "stream",
          "text": [
            "L2_loss=457.731 Loss=5.45265 Batch_id=390 Accuracy=21.67: 100%|██████████| 391/391 [03:25<00:00,  1.90it/s]\n",
            "  0%|          | 0/391 [00:00<?, ?it/s]"
          ],
          "name": "stderr"
        },
        {
          "output_type": "stream",
          "text": [
            "Test set: Average loss: 3.3962, Accuracy: 2181/10000 (21.81%)\n",
            "\n",
            "EPOCH: 4 (LR: 0.005712)\n"
          ],
          "name": "stdout"
        },
        {
          "output_type": "stream",
          "text": [
            "L2_loss=454.661 Loss=5.21769 Batch_id=390 Accuracy=27.61: 100%|██████████| 391/391 [03:25<00:00,  1.90it/s]\n",
            "  0%|          | 0/391 [00:00<?, ?it/s]"
          ],
          "name": "stderr"
        },
        {
          "output_type": "stream",
          "text": [
            "Test set: Average loss: 3.2487, Accuracy: 2540/10000 (25.40%)\n",
            "\n",
            "EPOCH: 5 (LR: 0.008222)\n"
          ],
          "name": "stdout"
        },
        {
          "output_type": "stream",
          "text": [
            "L2_loss=451.170 Loss=4.72545 Batch_id=390 Accuracy=32.45: 100%|██████████| 391/391 [03:25<00:00,  1.90it/s]\n",
            "  0%|          | 0/391 [00:00<?, ?it/s]"
          ],
          "name": "stderr"
        },
        {
          "output_type": "stream",
          "text": [
            "Test set: Average loss: 3.1202, Accuracy: 2872/10000 (28.72%)\n",
            "\n",
            "EPOCH: 6 (LR: 0.011004)\n"
          ],
          "name": "stdout"
        },
        {
          "output_type": "stream",
          "text": [
            "L2_loss=447.301 Loss=4.84048 Batch_id=390 Accuracy=36.82: 100%|██████████| 391/391 [03:25<00:00,  1.90it/s]\n",
            "  0%|          | 0/391 [00:00<?, ?it/s]"
          ],
          "name": "stderr"
        },
        {
          "output_type": "stream",
          "text": [
            "Test set: Average loss: 3.3065, Accuracy: 2626/10000 (26.26%)\n",
            "\n",
            "EPOCH: 7 (LR: 0.013785)\n"
          ],
          "name": "stdout"
        },
        {
          "output_type": "stream",
          "text": [
            "L2_loss=443.162 Loss=4.77409 Batch_id=390 Accuracy=39.94: 100%|██████████| 391/391 [03:25<00:00,  1.90it/s]\n",
            "  0%|          | 0/391 [00:00<?, ?it/s]"
          ],
          "name": "stderr"
        },
        {
          "output_type": "stream",
          "text": [
            "Test set: Average loss: 2.8109, Accuracy: 3500/10000 (35.00%)\n",
            "\n",
            "EPOCH: 8 (LR: 0.016294)\n"
          ],
          "name": "stdout"
        },
        {
          "output_type": "stream",
          "text": [
            "L2_loss=438.770 Loss=4.79066 Batch_id=390 Accuracy=43.12: 100%|██████████| 391/391 [03:25<00:00,  1.90it/s]\n",
            "  0%|          | 0/391 [00:00<?, ?it/s]"
          ],
          "name": "stderr"
        },
        {
          "output_type": "stream",
          "text": [
            "Test set: Average loss: 2.8474, Accuracy: 3370/10000 (33.70%)\n",
            "\n",
            "EPOCH: 9 (LR: 0.018285)\n"
          ],
          "name": "stdout"
        },
        {
          "output_type": "stream",
          "text": [
            "L2_loss=434.303 Loss=4.05615 Batch_id=390 Accuracy=45.54: 100%|██████████| 391/391 [03:25<00:00,  1.90it/s]\n",
            "  0%|          | 0/391 [00:00<?, ?it/s]"
          ],
          "name": "stderr"
        },
        {
          "output_type": "stream",
          "text": [
            "Test set: Average loss: 2.7409, Accuracy: 3651/10000 (36.51%)\n",
            "\n",
            "EPOCH: 10 (LR: 0.019562)\n"
          ],
          "name": "stdout"
        },
        {
          "output_type": "stream",
          "text": [
            "L2_loss=429.721 Loss=4.42721 Batch_id=390 Accuracy=48.20: 100%|██████████| 391/391 [03:25<00:00,  1.90it/s]\n",
            "  0%|          | 0/391 [00:00<?, ?it/s]"
          ],
          "name": "stderr"
        },
        {
          "output_type": "stream",
          "text": [
            "Test set: Average loss: 2.6070, Accuracy: 3964/10000 (39.64%)\n",
            "\n",
            "EPOCH: 11 (LR: 0.020000)\n"
          ],
          "name": "stdout"
        },
        {
          "output_type": "stream",
          "text": [
            "L2_loss=425.142 Loss=3.76937 Batch_id=390 Accuracy=50.28: 100%|██████████| 391/391 [03:25<00:00,  1.90it/s]\n",
            "  0%|          | 0/391 [00:00<?, ?it/s]"
          ],
          "name": "stderr"
        },
        {
          "output_type": "stream",
          "text": [
            "Test set: Average loss: 2.9296, Accuracy: 3468/10000 (34.68%)\n",
            "\n",
            "EPOCH: 12 (LR: 0.019877)\n"
          ],
          "name": "stdout"
        },
        {
          "output_type": "stream",
          "text": [
            "L2_loss=420.596 Loss=4.04913 Batch_id=390 Accuracy=52.37: 100%|██████████| 391/391 [03:25<00:00,  1.90it/s]\n",
            "  0%|          | 0/391 [00:00<?, ?it/s]"
          ],
          "name": "stderr"
        },
        {
          "output_type": "stream",
          "text": [
            "Test set: Average loss: 2.3389, Accuracy: 4385/10000 (43.85%)\n",
            "\n",
            "EPOCH: 13 (LR: 0.019514)\n"
          ],
          "name": "stdout"
        },
        {
          "output_type": "stream",
          "text": [
            "L2_loss=416.120 Loss=3.96078 Batch_id=390 Accuracy=54.31: 100%|██████████| 391/391 [03:25<00:00,  1.90it/s]\n",
            "  0%|          | 0/391 [00:00<?, ?it/s]"
          ],
          "name": "stderr"
        },
        {
          "output_type": "stream",
          "text": [
            "Test set: Average loss: 2.4593, Accuracy: 4192/10000 (41.92%)\n",
            "\n",
            "EPOCH: 14 (LR: 0.018919)\n"
          ],
          "name": "stdout"
        },
        {
          "output_type": "stream",
          "text": [
            "L2_loss=411.735 Loss=3.60967 Batch_id=390 Accuracy=56.32: 100%|██████████| 391/391 [03:25<00:00,  1.90it/s]\n",
            "  0%|          | 0/391 [00:00<?, ?it/s]"
          ],
          "name": "stderr"
        },
        {
          "output_type": "stream",
          "text": [
            "Test set: Average loss: 2.3249, Accuracy: 4558/10000 (45.58%)\n",
            "\n",
            "EPOCH: 15 (LR: 0.018107)\n"
          ],
          "name": "stdout"
        },
        {
          "output_type": "stream",
          "text": [
            "L2_loss=407.390 Loss=3.59554 Batch_id=390 Accuracy=57.99: 100%|██████████| 391/391 [03:25<00:00,  1.90it/s]\n",
            "  0%|          | 0/391 [00:00<?, ?it/s]"
          ],
          "name": "stderr"
        },
        {
          "output_type": "stream",
          "text": [
            "Test set: Average loss: 2.3048, Accuracy: 4553/10000 (45.53%)\n",
            "\n",
            "EPOCH: 16 (LR: 0.017098)\n"
          ],
          "name": "stdout"
        },
        {
          "output_type": "stream",
          "text": [
            "L2_loss=403.192 Loss=3.54619 Batch_id=390 Accuracy=59.65: 100%|██████████| 391/391 [03:25<00:00,  1.90it/s]\n",
            "  0%|          | 0/391 [00:00<?, ?it/s]"
          ],
          "name": "stderr"
        },
        {
          "output_type": "stream",
          "text": [
            "Test set: Average loss: 2.1566, Accuracy: 4759/10000 (47.59%)\n",
            "\n",
            "EPOCH: 17 (LR: 0.015916)\n"
          ],
          "name": "stdout"
        },
        {
          "output_type": "stream",
          "text": [
            "L2_loss=399.072 Loss=3.48246 Batch_id=390 Accuracy=61.25: 100%|██████████| 391/391 [03:25<00:00,  1.90it/s]\n",
            "  0%|          | 0/391 [00:00<?, ?it/s]"
          ],
          "name": "stderr"
        },
        {
          "output_type": "stream",
          "text": [
            "Test set: Average loss: 2.0534, Accuracy: 5081/10000 (50.81%)\n",
            "\n",
            "EPOCH: 18 (LR: 0.014591)\n"
          ],
          "name": "stdout"
        },
        {
          "output_type": "stream",
          "text": [
            "L2_loss=395.126 Loss=3.58331 Batch_id=390 Accuracy=62.74: 100%|██████████| 391/391 [03:25<00:00,  1.90it/s]\n",
            "  0%|          | 0/391 [00:00<?, ?it/s]"
          ],
          "name": "stderr"
        },
        {
          "output_type": "stream",
          "text": [
            "Test set: Average loss: 2.2287, Accuracy: 4704/10000 (47.04%)\n",
            "\n",
            "EPOCH: 19 (LR: 0.013155)\n"
          ],
          "name": "stdout"
        },
        {
          "output_type": "stream",
          "text": [
            "L2_loss=391.357 Loss=3.13977 Batch_id=390 Accuracy=64.58: 100%|██████████| 391/391 [03:25<00:00,  1.90it/s]\n",
            "  0%|          | 0/391 [00:00<?, ?it/s]"
          ],
          "name": "stderr"
        },
        {
          "output_type": "stream",
          "text": [
            "Test set: Average loss: 2.0724, Accuracy: 5069/10000 (50.69%)\n",
            "\n",
            "EPOCH: 20 (LR: 0.011645)\n"
          ],
          "name": "stdout"
        },
        {
          "output_type": "stream",
          "text": [
            "L2_loss=387.682 Loss=3.24546 Batch_id=390 Accuracy=66.29: 100%|██████████| 391/391 [03:25<00:00,  1.90it/s]\n",
            "  0%|          | 0/391 [00:00<?, ?it/s]"
          ],
          "name": "stderr"
        },
        {
          "output_type": "stream",
          "text": [
            "Test set: Average loss: 2.0594, Accuracy: 5137/10000 (51.37%)\n",
            "\n",
            "EPOCH: 21 (LR: 0.010096)\n"
          ],
          "name": "stdout"
        },
        {
          "output_type": "stream",
          "text": [
            "L2_loss=384.191 Loss=3.11948 Batch_id=390 Accuracy=68.52: 100%|██████████| 391/391 [03:25<00:00,  1.90it/s]\n",
            "  0%|          | 0/391 [00:00<?, ?it/s]"
          ],
          "name": "stderr"
        },
        {
          "output_type": "stream",
          "text": [
            "Test set: Average loss: 2.0989, Accuracy: 5087/10000 (50.87%)\n",
            "\n",
            "EPOCH: 22 (LR: 0.008547)\n"
          ],
          "name": "stdout"
        },
        {
          "output_type": "stream",
          "text": [
            "L2_loss=380.927 Loss=3.09934 Batch_id=390 Accuracy=70.31: 100%|██████████| 391/391 [03:25<00:00,  1.90it/s]\n",
            "  0%|          | 0/391 [00:00<?, ?it/s]"
          ],
          "name": "stderr"
        },
        {
          "output_type": "stream",
          "text": [
            "Test set: Average loss: 2.1204, Accuracy: 5006/10000 (50.06%)\n",
            "\n",
            "EPOCH: 23 (LR: 0.007037)\n"
          ],
          "name": "stdout"
        },
        {
          "output_type": "stream",
          "text": [
            "L2_loss=377.849 Loss=2.88669 Batch_id=390 Accuracy=72.75: 100%|██████████| 391/391 [03:25<00:00,  1.90it/s]\n",
            "  0%|          | 0/391 [00:00<?, ?it/s]"
          ],
          "name": "stderr"
        },
        {
          "output_type": "stream",
          "text": [
            "Test set: Average loss: 2.0109, Accuracy: 5303/10000 (53.03%)\n",
            "\n",
            "EPOCH: 24 (LR: 0.005602)\n"
          ],
          "name": "stdout"
        },
        {
          "output_type": "stream",
          "text": [
            "L2_loss=375.027 Loss=2.84702 Batch_id=390 Accuracy=75.13: 100%|██████████| 391/391 [03:25<00:00,  1.90it/s]\n",
            "  0%|          | 0/391 [00:00<?, ?it/s]"
          ],
          "name": "stderr"
        },
        {
          "output_type": "stream",
          "text": [
            "Test set: Average loss: 1.8491, Accuracy: 5586/10000 (55.86%)\n",
            "\n",
            "EPOCH: 25 (LR: 0.004278)\n"
          ],
          "name": "stdout"
        },
        {
          "output_type": "stream",
          "text": [
            "L2_loss=372.527 Loss=2.61627 Batch_id=390 Accuracy=78.02: 100%|██████████| 391/391 [03:25<00:00,  1.90it/s]\n",
            "  0%|          | 0/391 [00:00<?, ?it/s]"
          ],
          "name": "stderr"
        },
        {
          "output_type": "stream",
          "text": [
            "Test set: Average loss: 1.7311, Accuracy: 5826/10000 (58.26%)\n",
            "\n",
            "EPOCH: 26 (LR: 0.003097)\n"
          ],
          "name": "stdout"
        },
        {
          "output_type": "stream",
          "text": [
            "L2_loss=370.421 Loss=2.73604 Batch_id=390 Accuracy=81.07: 100%|██████████| 391/391 [03:25<00:00,  1.90it/s]\n",
            "  0%|          | 0/391 [00:00<?, ?it/s]"
          ],
          "name": "stderr"
        },
        {
          "output_type": "stream",
          "text": [
            "Test set: Average loss: 1.7464, Accuracy: 5858/10000 (58.58%)\n",
            "\n",
            "EPOCH: 27 (LR: 0.002088)\n"
          ],
          "name": "stdout"
        },
        {
          "output_type": "stream",
          "text": [
            "L2_loss=368.826 Loss=2.55124 Batch_id=390 Accuracy=83.99: 100%|██████████| 391/391 [03:25<00:00,  1.90it/s]\n",
            "  0%|          | 0/391 [00:00<?, ?it/s]"
          ],
          "name": "stderr"
        },
        {
          "output_type": "stream",
          "text": [
            "Test set: Average loss: 1.6644, Accuracy: 6016/10000 (60.16%)\n",
            "\n",
            "EPOCH: 28 (LR: 0.001277)\n"
          ],
          "name": "stdout"
        },
        {
          "output_type": "stream",
          "text": [
            "L2_loss=367.763 Loss=2.27699 Batch_id=390 Accuracy=86.55: 100%|██████████| 391/391 [03:25<00:00,  1.90it/s]\n",
            "  0%|          | 0/391 [00:00<?, ?it/s]"
          ],
          "name": "stderr"
        },
        {
          "output_type": "stream",
          "text": [
            "Test set: Average loss: 1.6347, Accuracy: 6076/10000 (60.76%)\n",
            "\n",
            "EPOCH: 29 (LR: 0.000683)\n"
          ],
          "name": "stdout"
        },
        {
          "output_type": "stream",
          "text": [
            "L2_loss=367.164 Loss=2.25155 Batch_id=390 Accuracy=88.58: 100%|██████████| 391/391 [03:25<00:00,  1.90it/s]\n",
            "  0%|          | 0/391 [00:00<?, ?it/s]"
          ],
          "name": "stderr"
        },
        {
          "output_type": "stream",
          "text": [
            "Test set: Average loss: 1.6183, Accuracy: 6129/10000 (61.29%)\n",
            "\n",
            "EPOCH: 30 (LR: 0.000321)\n"
          ],
          "name": "stdout"
        },
        {
          "output_type": "stream",
          "text": [
            "L2_loss=366.850 Loss=2.27400 Batch_id=390 Accuracy=89.45: 100%|██████████| 391/391 [03:25<00:00,  1.90it/s]\n"
          ],
          "name": "stderr"
        },
        {
          "output_type": "stream",
          "text": [
            "Test set: Average loss: 1.5956, Accuracy: 6155/10000 (61.55%)\n",
            "\n"
          ],
          "name": "stdout"
        }
      ]
    },
    {
      "cell_type": "code",
      "metadata": {
        "id": "62uz20BWTxj-"
      },
      "source": [
        ""
      ],
      "execution_count": null,
      "outputs": []
    }
  ]
}