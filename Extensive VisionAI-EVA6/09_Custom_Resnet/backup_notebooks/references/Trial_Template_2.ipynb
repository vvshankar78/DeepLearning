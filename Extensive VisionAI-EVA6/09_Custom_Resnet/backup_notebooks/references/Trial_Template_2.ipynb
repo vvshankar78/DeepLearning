{
  "nbformat": 4,
  "nbformat_minor": 0,
  "metadata": {
    "colab": {
      "name": "Trial Template-2.ipynb",
      "provenance": [],
      "collapsed_sections": []
    },
    "kernelspec": {
      "name": "python3",
      "display_name": "Python 3"
    },
    "language_info": {
      "name": "python"
    },
    "accelerator": "GPU",
    "widgets": {
      "application/vnd.jupyter.widget-state+json": {
        "88b60d154a024ff1a2f998ab8da7b4d3": {
          "model_module": "@jupyter-widgets/controls",
          "model_name": "HBoxModel",
          "state": {
            "_view_name": "HBoxView",
            "_dom_classes": [],
            "_model_name": "HBoxModel",
            "_view_module": "@jupyter-widgets/controls",
            "_model_module_version": "1.5.0",
            "_view_count": null,
            "_view_module_version": "1.5.0",
            "box_style": "",
            "layout": "IPY_MODEL_61a3c91db7d6468ba58409c481a5b267",
            "_model_module": "@jupyter-widgets/controls",
            "children": [
              "IPY_MODEL_5822c79a77f042a88b8ba4a3d6404c99",
              "IPY_MODEL_abe85f73347c40da8fa2a531cabb6d00"
            ]
          }
        },
        "61a3c91db7d6468ba58409c481a5b267": {
          "model_module": "@jupyter-widgets/base",
          "model_name": "LayoutModel",
          "state": {
            "_view_name": "LayoutView",
            "grid_template_rows": null,
            "right": null,
            "justify_content": null,
            "_view_module": "@jupyter-widgets/base",
            "overflow": null,
            "_model_module_version": "1.2.0",
            "_view_count": null,
            "flex_flow": null,
            "width": null,
            "min_width": null,
            "border": null,
            "align_items": null,
            "bottom": null,
            "_model_module": "@jupyter-widgets/base",
            "top": null,
            "grid_column": null,
            "overflow_y": null,
            "overflow_x": null,
            "grid_auto_flow": null,
            "grid_area": null,
            "grid_template_columns": null,
            "flex": null,
            "_model_name": "LayoutModel",
            "justify_items": null,
            "grid_row": null,
            "max_height": null,
            "align_content": null,
            "visibility": null,
            "align_self": null,
            "height": null,
            "min_height": null,
            "padding": null,
            "grid_auto_rows": null,
            "grid_gap": null,
            "max_width": null,
            "order": null,
            "_view_module_version": "1.2.0",
            "grid_template_areas": null,
            "object_position": null,
            "object_fit": null,
            "grid_auto_columns": null,
            "margin": null,
            "display": null,
            "left": null
          }
        },
        "5822c79a77f042a88b8ba4a3d6404c99": {
          "model_module": "@jupyter-widgets/controls",
          "model_name": "FloatProgressModel",
          "state": {
            "_view_name": "ProgressView",
            "style": "IPY_MODEL_9fdb9ffd0a3c4933b9ad4ad42182fbba",
            "_dom_classes": [],
            "description": " 73%",
            "_model_name": "FloatProgressModel",
            "bar_style": "danger",
            "max": 100,
            "_view_module": "@jupyter-widgets/controls",
            "_model_module_version": "1.5.0",
            "value": 73,
            "_view_count": null,
            "_view_module_version": "1.5.0",
            "orientation": "horizontal",
            "min": 0,
            "description_tooltip": null,
            "_model_module": "@jupyter-widgets/controls",
            "layout": "IPY_MODEL_22d7a4b803a34f3d8b709d959be7c99e"
          }
        },
        "abe85f73347c40da8fa2a531cabb6d00": {
          "model_module": "@jupyter-widgets/controls",
          "model_name": "HTMLModel",
          "state": {
            "_view_name": "HTMLView",
            "style": "IPY_MODEL_74abb6cb8e454b82acff2391d2da1dbf",
            "_dom_classes": [],
            "description": "",
            "_model_name": "HTMLModel",
            "placeholder": "​",
            "_view_module": "@jupyter-widgets/controls",
            "_model_module_version": "1.5.0",
            "value": " 73/100 [03:02&lt;01:07,  2.50s/it]",
            "_view_count": null,
            "_view_module_version": "1.5.0",
            "description_tooltip": null,
            "_model_module": "@jupyter-widgets/controls",
            "layout": "IPY_MODEL_57de35a125234cf4b5e2c70992b9ffb4"
          }
        },
        "9fdb9ffd0a3c4933b9ad4ad42182fbba": {
          "model_module": "@jupyter-widgets/controls",
          "model_name": "ProgressStyleModel",
          "state": {
            "_view_name": "StyleView",
            "_model_name": "ProgressStyleModel",
            "description_width": "initial",
            "_view_module": "@jupyter-widgets/base",
            "_model_module_version": "1.5.0",
            "_view_count": null,
            "_view_module_version": "1.2.0",
            "bar_color": null,
            "_model_module": "@jupyter-widgets/controls"
          }
        },
        "22d7a4b803a34f3d8b709d959be7c99e": {
          "model_module": "@jupyter-widgets/base",
          "model_name": "LayoutModel",
          "state": {
            "_view_name": "LayoutView",
            "grid_template_rows": null,
            "right": null,
            "justify_content": null,
            "_view_module": "@jupyter-widgets/base",
            "overflow": null,
            "_model_module_version": "1.2.0",
            "_view_count": null,
            "flex_flow": null,
            "width": null,
            "min_width": null,
            "border": null,
            "align_items": null,
            "bottom": null,
            "_model_module": "@jupyter-widgets/base",
            "top": null,
            "grid_column": null,
            "overflow_y": null,
            "overflow_x": null,
            "grid_auto_flow": null,
            "grid_area": null,
            "grid_template_columns": null,
            "flex": null,
            "_model_name": "LayoutModel",
            "justify_items": null,
            "grid_row": null,
            "max_height": null,
            "align_content": null,
            "visibility": null,
            "align_self": null,
            "height": null,
            "min_height": null,
            "padding": null,
            "grid_auto_rows": null,
            "grid_gap": null,
            "max_width": null,
            "order": null,
            "_view_module_version": "1.2.0",
            "grid_template_areas": null,
            "object_position": null,
            "object_fit": null,
            "grid_auto_columns": null,
            "margin": null,
            "display": null,
            "left": null
          }
        },
        "74abb6cb8e454b82acff2391d2da1dbf": {
          "model_module": "@jupyter-widgets/controls",
          "model_name": "DescriptionStyleModel",
          "state": {
            "_view_name": "StyleView",
            "_model_name": "DescriptionStyleModel",
            "description_width": "",
            "_view_module": "@jupyter-widgets/base",
            "_model_module_version": "1.5.0",
            "_view_count": null,
            "_view_module_version": "1.2.0",
            "_model_module": "@jupyter-widgets/controls"
          }
        },
        "57de35a125234cf4b5e2c70992b9ffb4": {
          "model_module": "@jupyter-widgets/base",
          "model_name": "LayoutModel",
          "state": {
            "_view_name": "LayoutView",
            "grid_template_rows": null,
            "right": null,
            "justify_content": null,
            "_view_module": "@jupyter-widgets/base",
            "overflow": null,
            "_model_module_version": "1.2.0",
            "_view_count": null,
            "flex_flow": null,
            "width": null,
            "min_width": null,
            "border": null,
            "align_items": null,
            "bottom": null,
            "_model_module": "@jupyter-widgets/base",
            "top": null,
            "grid_column": null,
            "overflow_y": null,
            "overflow_x": null,
            "grid_auto_flow": null,
            "grid_area": null,
            "grid_template_columns": null,
            "flex": null,
            "_model_name": "LayoutModel",
            "justify_items": null,
            "grid_row": null,
            "max_height": null,
            "align_content": null,
            "visibility": null,
            "align_self": null,
            "height": null,
            "min_height": null,
            "padding": null,
            "grid_auto_rows": null,
            "grid_gap": null,
            "max_width": null,
            "order": null,
            "_view_module_version": "1.2.0",
            "grid_template_areas": null,
            "object_position": null,
            "object_fit": null,
            "grid_auto_columns": null,
            "margin": null,
            "display": null,
            "left": null
          }
        }
      }
    }
  },
  "cells": [
    {
      "cell_type": "code",
      "metadata": {
        "colab": {
          "base_uri": "https://localhost:8080/"
        },
        "id": "fHQDL6XDZ0im",
        "outputId": "cf5b5aa8-67ae-41cb-9714-833aa8f4d598"
      },
      "source": [
        "!pip install -U albumentations\n",
        "!pip install ttach"
      ],
      "execution_count": 1,
      "outputs": [
        {
          "output_type": "stream",
          "text": [
            "Requirement already up-to-date: albumentations in /usr/local/lib/python3.7/dist-packages (1.0.1)\n",
            "Requirement already satisfied, skipping upgrade: scikit-image>=0.16.1 in /usr/local/lib/python3.7/dist-packages (from albumentations) (0.16.2)\n",
            "Requirement already satisfied, skipping upgrade: numpy>=1.11.1 in /usr/local/lib/python3.7/dist-packages (from albumentations) (1.19.5)\n",
            "Requirement already satisfied, skipping upgrade: PyYAML in /usr/local/lib/python3.7/dist-packages (from albumentations) (3.13)\n",
            "Requirement already satisfied, skipping upgrade: opencv-python-headless>=4.1.1 in /usr/local/lib/python3.7/dist-packages (from albumentations) (4.5.2.54)\n",
            "Requirement already satisfied, skipping upgrade: scipy in /usr/local/lib/python3.7/dist-packages (from albumentations) (1.4.1)\n",
            "Requirement already satisfied, skipping upgrade: networkx>=2.0 in /usr/local/lib/python3.7/dist-packages (from scikit-image>=0.16.1->albumentations) (2.5.1)\n",
            "Requirement already satisfied, skipping upgrade: matplotlib!=3.0.0,>=2.0.0 in /usr/local/lib/python3.7/dist-packages (from scikit-image>=0.16.1->albumentations) (3.2.2)\n",
            "Requirement already satisfied, skipping upgrade: pillow>=4.3.0 in /usr/local/lib/python3.7/dist-packages (from scikit-image>=0.16.1->albumentations) (7.1.2)\n",
            "Requirement already satisfied, skipping upgrade: imageio>=2.3.0 in /usr/local/lib/python3.7/dist-packages (from scikit-image>=0.16.1->albumentations) (2.4.1)\n",
            "Requirement already satisfied, skipping upgrade: PyWavelets>=0.4.0 in /usr/local/lib/python3.7/dist-packages (from scikit-image>=0.16.1->albumentations) (1.1.1)\n",
            "Requirement already satisfied, skipping upgrade: decorator<5,>=4.3 in /usr/local/lib/python3.7/dist-packages (from networkx>=2.0->scikit-image>=0.16.1->albumentations) (4.4.2)\n",
            "Requirement already satisfied, skipping upgrade: python-dateutil>=2.1 in /usr/local/lib/python3.7/dist-packages (from matplotlib!=3.0.0,>=2.0.0->scikit-image>=0.16.1->albumentations) (2.8.1)\n",
            "Requirement already satisfied, skipping upgrade: pyparsing!=2.0.4,!=2.1.2,!=2.1.6,>=2.0.1 in /usr/local/lib/python3.7/dist-packages (from matplotlib!=3.0.0,>=2.0.0->scikit-image>=0.16.1->albumentations) (2.4.7)\n",
            "Requirement already satisfied, skipping upgrade: kiwisolver>=1.0.1 in /usr/local/lib/python3.7/dist-packages (from matplotlib!=3.0.0,>=2.0.0->scikit-image>=0.16.1->albumentations) (1.3.1)\n",
            "Requirement already satisfied, skipping upgrade: cycler>=0.10 in /usr/local/lib/python3.7/dist-packages (from matplotlib!=3.0.0,>=2.0.0->scikit-image>=0.16.1->albumentations) (0.10.0)\n",
            "Requirement already satisfied, skipping upgrade: six>=1.5 in /usr/local/lib/python3.7/dist-packages (from python-dateutil>=2.1->matplotlib!=3.0.0,>=2.0.0->scikit-image>=0.16.1->albumentations) (1.15.0)\n",
            "Requirement already satisfied: ttach in /usr/local/lib/python3.7/dist-packages (0.0.3)\n"
          ],
          "name": "stdout"
        }
      ]
    },
    {
      "cell_type": "code",
      "metadata": {
        "colab": {
          "base_uri": "https://localhost:8080/"
        },
        "id": "krh8UHSeZ3W3",
        "outputId": "b3d69cd4-bdd3-4460-d1f0-229ba4234648"
      },
      "source": [
        "!git clone \"https://github.com/jacobgil/pytorch-grad-cam.git\"\n",
        "!git clone \"https://github.com/vvshankar78/DeepLearning.git\""
      ],
      "execution_count": 2,
      "outputs": [
        {
          "output_type": "stream",
          "text": [
            "fatal: destination path 'pytorch-grad-cam' already exists and is not an empty directory.\n",
            "fatal: destination path 'DeepLearning' already exists and is not an empty directory.\n"
          ],
          "name": "stdout"
        }
      ]
    },
    {
      "cell_type": "code",
      "metadata": {
        "id": "YYEdZRFwZ3UG"
      },
      "source": [
        "import sys, os\n",
        "\n",
        "# /content/DeepLearning/Extensive VisionAI-EVA6/\n",
        "my_path = 'DeepLearning/Extensive VisionAI-EVA6/09_Custom_Resnet'\n",
        "sys.path.append(my_path)\n",
        "# os.listdir(my_path)\n",
        "\n",
        "my_path_cam = '/content/pytorch-grad-cam'\n",
        "sys.path.append(my_path_cam)"
      ],
      "execution_count": 3,
      "outputs": []
    },
    {
      "cell_type": "code",
      "metadata": {
        "id": "wSqOZX3LZ3NP"
      },
      "source": [
        "from __future__ import print_function\n",
        "import torch\n",
        "import torchvision\n",
        "import torch.nn as nn\n",
        "import torch.nn.functional as F\n",
        "import torch.optim as optim\n",
        "from torchvision import datasets, transforms\n",
        "from torchsummary import summary\n",
        "import matplotlib\n",
        "use_cuda = torch.cuda.is_available()\n",
        "device = torch.device(\"cuda\" if use_cuda else \"cpu\")"
      ],
      "execution_count": 4,
      "outputs": []
    },
    {
      "cell_type": "code",
      "metadata": {
        "id": "VB4wCUxCZ3J_"
      },
      "source": [
        "import matplotlib.pyplot as plt\n",
        "import numpy as np\n",
        "from torch.optim.lr_scheduler import ReduceLROnPlateau\n",
        "from torch.optim.lr_scheduler import ExponentialLR\n",
        "from torch.optim.lr_scheduler import StepLR"
      ],
      "execution_count": 5,
      "outputs": []
    },
    {
      "cell_type": "code",
      "metadata": {
        "id": "9gUMcK6-Z3Ge"
      },
      "source": [
        "# from model import Net2\n",
        "from models import Resnet\n",
        "from models import my_model\n",
        "from train import train\n",
        "from test1 import test\n",
        "from config import ModelConfig\n",
        "from utils import *\n",
        "from data.data_engine import DataEngine"
      ],
      "execution_count": 6,
      "outputs": []
    },
    {
      "cell_type": "code",
      "metadata": {
        "colab": {
          "base_uri": "https://localhost:8080/"
        },
        "id": "ALNGJXLGZ3De",
        "outputId": "33e65c71-5f56-4fef-9983-4de007b070df"
      },
      "source": [
        "# View model config\n",
        "args = ModelConfig()\n",
        "args.dropout_value = 0.0\n",
        "args.print_config()"
      ],
      "execution_count": 7,
      "outputs": [
        {
          "output_type": "stream",
          "text": [
            "Model Parameters:\n",
            "{ 'batch_size_cpu': 512,\n",
            "  'batch_size_cuda': 512,\n",
            "  'dropout_value': 0.0,\n",
            "  'epochs': 50,\n",
            "  'num_workers': 4,\n",
            "  'seed': 1}\n"
          ],
          "name": "stdout"
        }
      ]
    },
    {
      "cell_type": "code",
      "metadata": {
        "colab": {
          "base_uri": "https://localhost:8080/",
          "height": 239
        },
        "id": "709YLzb3Z3AO",
        "outputId": "9540f9ad-efb0-4806-97dd-0caae9f78494"
      },
      "source": [
        "data = DataEngine(args)\n",
        "data.show_samples()"
      ],
      "execution_count": 8,
      "outputs": [
        {
          "output_type": "stream",
          "text": [
            "Files already downloaded and verified\n",
            "Files already downloaded and verified\n"
          ],
          "name": "stdout"
        },
        {
          "output_type": "stream",
          "text": [
            "/usr/local/lib/python3.7/dist-packages/torch/utils/data/dataloader.py:481: UserWarning: This DataLoader will create 4 worker processes in total. Our suggested max number of worker in current system is 2, which is smaller than what this DataLoader is going to create. Please be aware that excessive worker creation might get DataLoader running slow or even freeze, lower the worker number to avoid potential slowness/freeze if necessary.\n",
            "  cpuset_checked))\n"
          ],
          "name": "stderr"
        },
        {
          "output_type": "display_data",
          "data": {
            "image/png": "[encoded data removed]",
            "text/plain": [
              "<Figure size 1080x504 with 1 Axes>"
            ]
          },
          "metadata": {
            "tags": [],
            "needs_background": "light"
          }
        }
      ]
    },
    {
      "cell_type": "code",
      "metadata": {
        "colab": {
          "base_uri": "https://localhost:8080/"
        },
        "id": "wZyntWtdZ28-",
        "outputId": "306a1fff-2aca-4ef7-c88d-65479a833617"
      },
      "source": [
        "train_loader = data.train_loader\n",
        "test_loader = data.test_loader\n",
        "\n",
        "classes = ('plane', 'car', 'bird', 'cat',\n",
        "           'deer', 'dog', 'frog', 'horse', 'ship', 'truck')\n",
        "\n",
        "SEED = 1\n",
        "# CUDA?\n",
        "cuda = torch.cuda.is_available()\n",
        "print(\"CUDA Available?\", cuda)\n",
        "\n",
        "# For reproducibility\n",
        "torch.manual_seed(SEED)\n",
        "\n",
        "if cuda:\n",
        "    torch.cuda.manual_seed(SEED)\n",
        "\n",
        "#dict to store model loss and accuracy parameters\n",
        "history = {}"
      ],
      "execution_count": 9,
      "outputs": [
        {
          "output_type": "stream",
          "text": [
            "CUDA Available? True\n"
          ],
          "name": "stdout"
        }
      ]
    },
    {
      "cell_type": "code",
      "metadata": {
        "colab": {
          "base_uri": "https://localhost:8080/"
        },
        "id": "ad2DNjNC2cUV",
        "outputId": "793bfa24-b35a-4c7e-ba7d-62071b7ae12c"
      },
      "source": [
        "dataiter = iter(test_loader)\n",
        "images, labels = dataiter.next()\n",
        "images.shape"
      ],
      "execution_count": 10,
      "outputs": [
        {
          "output_type": "stream",
          "text": [
            "/usr/local/lib/python3.7/dist-packages/torch/utils/data/dataloader.py:481: UserWarning: This DataLoader will create 4 worker processes in total. Our suggested max number of worker in current system is 2, which is smaller than what this DataLoader is going to create. Please be aware that excessive worker creation might get DataLoader running slow or even freeze, lower the worker number to avoid potential slowness/freeze if necessary.\n",
            "  cpuset_checked))\n"
          ],
          "name": "stderr"
        },
        {
          "output_type": "execute_result",
          "data": {
            "text/plain": [
              "torch.Size([512, 3, 38, 38])"
            ]
          },
          "metadata": {
            "tags": []
          },
          "execution_count": 10
        }
      ]
    },
    {
      "cell_type": "code",
      "metadata": {
        "id": "wmXat06gjZYe"
      },
      "source": [
        "\n",
        "\n",
        "# class Net2(nn.Module):\n",
        "\n",
        "\n",
        "#     def ResBlock(self, in_features, out_features, pading=1):\n",
        "#       # convolution\n",
        "#       layers = []\n",
        "\n",
        "#       layers = [nn.Conv2d(in_features, out_features, 3, padding=pading, bias=False),nn.BatchNorm2d(out_features), nn.ReLU(),\n",
        "#                 nn.Conv2d(out_features, out_features, 3, padding=pading, bias=False),nn.BatchNorm2d(out_features), nn.ReLU()]\n",
        "\n",
        "#       return nn.Sequential(*layers)\n",
        "\n",
        "#     def max_pool_block(self):\n",
        "#         pool = nn.MaxPool2d(2,2) # output_size = 13\n",
        "#         return pool\n",
        "\n",
        "#     def __init__(self):\n",
        "#         super(Net2, self).__init__()\n",
        "#         self.convblock1 = self.ResBlock(3,16) #38\n",
        "#         self.pool1 = self.max_pool_block()  #12\n",
        "        \n",
        "#         self.convblock2 = self.ResBlock(16,16) #19\n",
        "#         self.pool2 = self.max_pool_block()  #9\n",
        "\n",
        "#         self.convblock3= self.ResBlock(16,16) #9\n",
        "#         self.pool3 = self.max_pool_block()  #4\n",
        "\n",
        "\n",
        "#         self.gap = nn.Sequential(nn.AvgPool2d(kernel_size=4)) # output_size = 1\n",
        "#         self.fc1 = nn.Linear(16, 10)\n",
        "\n",
        "#     def forward(self, x):\n",
        "#         x = self.convblock1(x)\n",
        "#         x = self.pool1(x)\n",
        "#         x = self.convblock2(x)\n",
        "#         x = self.pool2(x)\n",
        "#         x = self.convblock3(x)\n",
        "#         x = self.pool3(x)\n",
        "\n",
        "#         x = self.gap(x)\n",
        "#         x = x.view(-1, x.shape[1]*x.shape[2]*x.shape[3])\n",
        "#         x = self.fc1(x)\n",
        "#         x = x.view(-1, 10)\n",
        "#         return F.log_softmax(x, dim=-1)\n",
        "\n",
        "# # temp = Net2(\"BN\", input_img_size=(3, 28, 28), num_groups=2).to(device)\n",
        "# # summary(temp, input_size=(1, 28, 28))"
      ],
      "execution_count": 11,
      "outputs": []
    },
    {
      "cell_type": "code",
      "metadata": {
        "id": "aGilRkjSZ25-"
      },
      "source": [
        "\n",
        "\n",
        "class Net2(nn.Module):\n",
        "\n",
        "\n",
        "    def ResBlock(self, in_features, out_features, pading=1):\n",
        "      # convolution\n",
        "      layers = []\n",
        "      layers = [nn.Conv2d(in_features, out_features, 3, padding=pading, bias=False),nn.BatchNorm2d(out_features), nn.ReLU(),\n",
        "                nn.Conv2d(out_features, out_features, 3, padding=pading, bias=False),nn.BatchNorm2d(out_features), nn.ReLU()]\n",
        "      return nn.Sequential(*layers)\n",
        "\n",
        "    def max_pool_block(self, in_features, out_features, pading=1):\n",
        "        layers = []\n",
        "        layers = [nn.Conv2d(in_features, out_features, 3, padding=pading, bias=False), nn.MaxPool2d(2,2), nn.BatchNorm2d(out_features), nn.ReLU()]\n",
        "        return nn.Sequential(*layers)\n",
        "\n",
        "\n",
        "    def __init__(self):\n",
        "        super(Net2, self).__init__()\n",
        "        self.convblock0 = nn.Sequential(nn.Conv2d(3,64, 3, padding=1, bias=False),nn.BatchNorm2d(64), nn.ReLU()) #38\n",
        "        self.pool1 = self.max_pool_block(64,128)  #19\n",
        "        self.convblock1 = self.ResBlock(128,128) #19\n",
        "        self.pool2 = self.max_pool_block(128,256)  #9   \n",
        "        self.pool3 = self.max_pool_block(256,512)  #4             \n",
        "        self.convblock2 = self.ResBlock(512,512) #4\n",
        "        \n",
        "\n",
        "        # self.gap = nn.Sequential(nn.AvgPool2d(kernel_size=4)) # output_size = 1\n",
        "        self.max_pool = nn.MaxPool2d(4,4)\n",
        "        self.fc1 = nn.Linear(512, 10)\n",
        "\n",
        "    def forward(self, x):\n",
        "        x = self.convblock0(x)\n",
        "        x = self.pool1(x)\n",
        "        x1 = self.convblock1(x)\n",
        "        x = x+ x1\n",
        "        x = self.pool2(x)\n",
        "        x = self.pool3(x)\n",
        "        x2 = self.convblock2(x)\n",
        "        x = x + x2\n",
        "\n",
        "        \n",
        "        # print(x.shape)\n",
        "        # x = self.gap(x)\n",
        "        x = self.max_pool(x)\n",
        "        # print(x.shape)\n",
        "        x = x.view(-1,512)\n",
        "        x = self.fc1(x)\n",
        "        x = x.view(-1,10)\n",
        "        return F.log_softmax(x, dim=-1)\n"
      ],
      "execution_count": 12,
      "outputs": []
    },
    {
      "cell_type": "code",
      "metadata": {
        "id": "0gXg4kOwZ23P"
      },
      "source": [
        "model = Net2().to(device)"
      ],
      "execution_count": 13,
      "outputs": []
    },
    {
      "cell_type": "code",
      "metadata": {
        "colab": {
          "base_uri": "https://localhost:8080/"
        },
        "id": "3swbzDeuZ2zv",
        "outputId": "9642718e-dd32-4b4f-be7d-5b95df52e733"
      },
      "source": [
        "model"
      ],
      "execution_count": 14,
      "outputs": [
        {
          "output_type": "execute_result",
          "data": {
            "text/plain": [
              "Net2(\n",
              "  (convblock0): Sequential(\n",
              "    (0): Conv2d(3, 64, kernel_size=(3, 3), stride=(1, 1), padding=(1, 1), bias=False)\n",
              "    (1): BatchNorm2d(64, eps=1e-05, momentum=0.1, affine=True, track_running_stats=True)\n",
              "    (2): ReLU()\n",
              "  )\n",
              "  (pool1): Sequential(\n",
              "    (0): Conv2d(64, 128, kernel_size=(3, 3), stride=(1, 1), padding=(1, 1), bias=False)\n",
              "    (1): MaxPool2d(kernel_size=2, stride=2, padding=0, dilation=1, ceil_mode=False)\n",
              "    (2): BatchNorm2d(128, eps=1e-05, momentum=0.1, affine=True, track_running_stats=True)\n",
              "    (3): ReLU()\n",
              "  )\n",
              "  (convblock1): Sequential(\n",
              "    (0): Conv2d(128, 128, kernel_size=(3, 3), stride=(1, 1), padding=(1, 1), bias=False)\n",
              "    (1): BatchNorm2d(128, eps=1e-05, momentum=0.1, affine=True, track_running_stats=True)\n",
              "    (2): ReLU()\n",
              "    (3): Conv2d(128, 128, kernel_size=(3, 3), stride=(1, 1), padding=(1, 1), bias=False)\n",
              "    (4): BatchNorm2d(128, eps=1e-05, momentum=0.1, affine=True, track_running_stats=True)\n",
              "    (5): ReLU()\n",
              "  )\n",
              "  (pool2): Sequential(\n",
              "    (0): Conv2d(128, 256, kernel_size=(3, 3), stride=(1, 1), padding=(1, 1), bias=False)\n",
              "    (1): MaxPool2d(kernel_size=2, stride=2, padding=0, dilation=1, ceil_mode=False)\n",
              "    (2): BatchNorm2d(256, eps=1e-05, momentum=0.1, affine=True, track_running_stats=True)\n",
              "    (3): ReLU()\n",
              "  )\n",
              "  (pool3): Sequential(\n",
              "    (0): Conv2d(256, 512, kernel_size=(3, 3), stride=(1, 1), padding=(1, 1), bias=False)\n",
              "    (1): MaxPool2d(kernel_size=2, stride=2, padding=0, dilation=1, ceil_mode=False)\n",
              "    (2): BatchNorm2d(512, eps=1e-05, momentum=0.1, affine=True, track_running_stats=True)\n",
              "    (3): ReLU()\n",
              "  )\n",
              "  (convblock2): Sequential(\n",
              "    (0): Conv2d(512, 512, kernel_size=(3, 3), stride=(1, 1), padding=(1, 1), bias=False)\n",
              "    (1): BatchNorm2d(512, eps=1e-05, momentum=0.1, affine=True, track_running_stats=True)\n",
              "    (2): ReLU()\n",
              "    (3): Conv2d(512, 512, kernel_size=(3, 3), stride=(1, 1), padding=(1, 1), bias=False)\n",
              "    (4): BatchNorm2d(512, eps=1e-05, momentum=0.1, affine=True, track_running_stats=True)\n",
              "    (5): ReLU()\n",
              "  )\n",
              "  (max_pool): MaxPool2d(kernel_size=4, stride=4, padding=0, dilation=1, ceil_mode=False)\n",
              "  (fc1): Linear(in_features=512, out_features=10, bias=True)\n",
              ")"
            ]
          },
          "metadata": {
            "tags": []
          },
          "execution_count": 14
        }
      ]
    },
    {
      "cell_type": "code",
      "metadata": {
        "colab": {
          "base_uri": "https://localhost:8080/"
        },
        "id": "yc1HzQQpZ2wb",
        "outputId": "ab004a5f-1835-4f8f-801d-0e882dd9ff51"
      },
      "source": [
        "summary(model, input_size=(3, 38, 38))"
      ],
      "execution_count": 15,
      "outputs": [
        {
          "output_type": "stream",
          "text": [
            "----------------------------------------------------------------\n",
            "        Layer (type)               Output Shape         Param #\n",
            "================================================================\n",
            "            Conv2d-1           [-1, 64, 38, 38]           1,728\n",
            "       BatchNorm2d-2           [-1, 64, 38, 38]             128\n",
            "              ReLU-3           [-1, 64, 38, 38]               0\n",
            "            Conv2d-4          [-1, 128, 38, 38]          73,728\n",
            "         MaxPool2d-5          [-1, 128, 19, 19]               0\n",
            "       BatchNorm2d-6          [-1, 128, 19, 19]             256\n",
            "              ReLU-7          [-1, 128, 19, 19]               0\n",
            "            Conv2d-8          [-1, 128, 19, 19]         147,456\n",
            "       BatchNorm2d-9          [-1, 128, 19, 19]             256\n",
            "             ReLU-10          [-1, 128, 19, 19]               0\n",
            "           Conv2d-11          [-1, 128, 19, 19]         147,456\n",
            "      BatchNorm2d-12          [-1, 128, 19, 19]             256\n",
            "             ReLU-13          [-1, 128, 19, 19]               0\n",
            "           Conv2d-14          [-1, 256, 19, 19]         294,912\n",
            "        MaxPool2d-15            [-1, 256, 9, 9]               0\n",
            "      BatchNorm2d-16            [-1, 256, 9, 9]             512\n",
            "             ReLU-17            [-1, 256, 9, 9]               0\n",
            "           Conv2d-18            [-1, 512, 9, 9]       1,179,648\n",
            "        MaxPool2d-19            [-1, 512, 4, 4]               0\n",
            "      BatchNorm2d-20            [-1, 512, 4, 4]           1,024\n",
            "             ReLU-21            [-1, 512, 4, 4]               0\n",
            "           Conv2d-22            [-1, 512, 4, 4]       2,359,296\n",
            "      BatchNorm2d-23            [-1, 512, 4, 4]           1,024\n",
            "             ReLU-24            [-1, 512, 4, 4]               0\n",
            "           Conv2d-25            [-1, 512, 4, 4]       2,359,296\n",
            "      BatchNorm2d-26            [-1, 512, 4, 4]           1,024\n",
            "             ReLU-27            [-1, 512, 4, 4]               0\n",
            "        MaxPool2d-28            [-1, 512, 1, 1]               0\n",
            "           Linear-29                   [-1, 10]           5,130\n",
            "================================================================\n",
            "Total params: 6,573,130\n",
            "Trainable params: 6,573,130\n",
            "Non-trainable params: 0\n",
            "----------------------------------------------------------------\n",
            "Input size (MB): 0.02\n",
            "Forward/backward pass size (MB): 8.76\n",
            "Params size (MB): 25.07\n",
            "Estimated Total Size (MB): 33.85\n",
            "----------------------------------------------------------------\n"
          ],
          "name": "stdout"
        },
        {
          "output_type": "stream",
          "text": [
            "/usr/local/lib/python3.7/dist-packages/torch/nn/functional.py:718: UserWarning: Named tensors and all their associated APIs are an experimental feature and subject to change. Please do not use them for anything important until they are released as stable. (Triggered internally at  /pytorch/c10/core/TensorImpl.h:1156.)\n",
            "  return torch.max_pool2d(input, kernel_size, stride, padding, dilation, ceil_mode)\n"
          ],
          "name": "stderr"
        }
      ]
    },
    {
      "cell_type": "code",
      "metadata": {
        "colab": {
          "base_uri": "https://localhost:8080/"
        },
        "id": "R3_SRm9y4iEf",
        "outputId": "269f1320-74d8-4a6f-ca73-28e008f8fd28"
      },
      "source": [
        "pip install torch-lr-finder\n"
      ],
      "execution_count": 22,
      "outputs": [
        {
          "output_type": "stream",
          "text": [
            "Requirement already satisfied: torch-lr-finder in /usr/local/lib/python3.7/dist-packages (0.2.1)\n",
            "Requirement already satisfied: packaging in /usr/local/lib/python3.7/dist-packages (from torch-lr-finder) (20.9)\n",
            "Requirement already satisfied: tqdm in /usr/local/lib/python3.7/dist-packages (from torch-lr-finder) (4.41.1)\n",
            "Requirement already satisfied: numpy in /usr/local/lib/python3.7/dist-packages (from torch-lr-finder) (1.19.5)\n",
            "Requirement already satisfied: torch>=0.4.1 in /usr/local/lib/python3.7/dist-packages (from torch-lr-finder) (1.9.0+cu102)\n",
            "Requirement already satisfied: matplotlib in /usr/local/lib/python3.7/dist-packages (from torch-lr-finder) (3.2.2)\n",
            "Requirement already satisfied: pyparsing>=2.0.2 in /usr/local/lib/python3.7/dist-packages (from packaging->torch-lr-finder) (2.4.7)\n",
            "Requirement already satisfied: typing-extensions in /usr/local/lib/python3.7/dist-packages (from torch>=0.4.1->torch-lr-finder) (3.7.4.3)\n",
            "Requirement already satisfied: kiwisolver>=1.0.1 in /usr/local/lib/python3.7/dist-packages (from matplotlib->torch-lr-finder) (1.3.1)\n",
            "Requirement already satisfied: cycler>=0.10 in /usr/local/lib/python3.7/dist-packages (from matplotlib->torch-lr-finder) (0.10.0)\n",
            "Requirement already satisfied: python-dateutil>=2.1 in /usr/local/lib/python3.7/dist-packages (from matplotlib->torch-lr-finder) (2.8.1)\n",
            "Requirement already satisfied: six in /usr/local/lib/python3.7/dist-packages (from cycler>=0.10->matplotlib->torch-lr-finder) (1.15.0)\n"
          ],
          "name": "stdout"
        }
      ]
    },
    {
      "cell_type": "code",
      "metadata": {
        "colab": {
          "base_uri": "https://localhost:8080/",
          "height": 137,
          "referenced_widgets": [
            "88b60d154a024ff1a2f998ab8da7b4d3",
            "61a3c91db7d6468ba58409c481a5b267",
            "5822c79a77f042a88b8ba4a3d6404c99",
            "abe85f73347c40da8fa2a531cabb6d00",
            "9fdb9ffd0a3c4933b9ad4ad42182fbba",
            "22d7a4b803a34f3d8b709d959be7c99e",
            "74abb6cb8e454b82acff2391d2da1dbf",
            "57de35a125234cf4b5e2c70992b9ffb4"
          ]
        },
        "id": "W9L9v_Er5WG4",
        "outputId": "ce13f443-f111-40f8-ffb5-4f88bd5bd829"
      },
      "source": [
        "from torch_lr_finder import LRFinder\n",
        "\n",
        "criterion = nn.CrossEntropyLoss()\n",
        "optimizer = optim.SGD(model.parameters(), lr=1e-7, weight_decay=1e-2)\n",
        "lr_finder = LRFinder(model, optimizer, criterion, device=\"cuda\")\n",
        "lr_finder.range_test(train_loader, end_lr=100, num_iter=100, step_mode=\"exp\")"
      ],
      "execution_count": 23,
      "outputs": [
        {
          "output_type": "stream",
          "text": [
            "/usr/local/lib/python3.7/dist-packages/torch/utils/data/dataloader.py:481: UserWarning: This DataLoader will create 4 worker processes in total. Our suggested max number of worker in current system is 2, which is smaller than what this DataLoader is going to create. Please be aware that excessive worker creation might get DataLoader running slow or even freeze, lower the worker number to avoid potential slowness/freeze if necessary.\n",
            "  cpuset_checked))\n"
          ],
          "name": "stderr"
        },
        {
          "output_type": "display_data",
          "data": {
            "application/vnd.jupyter.widget-view+json": {
              "model_id": "88b60d154a024ff1a2f998ab8da7b4d3",
              "version_minor": 0,
              "version_major": 2
            },
            "text/plain": [
              "HBox(children=(FloatProgress(value=0.0), HTML(value='')))"
            ]
          },
          "metadata": {
            "tags": []
          }
        },
        {
          "output_type": "stream",
          "text": [
            "Stopping early, the loss has diverged\n",
            "Learning rate search finished. See the graph with {finder_name}.plot()\n"
          ],
          "name": "stdout"
        }
      ]
    },
    {
      "cell_type": "code",
      "metadata": {
        "colab": {
          "base_uri": "https://localhost:8080/",
          "height": 354
        },
        "id": "gaao3V1J5nBX",
        "outputId": "8dc5c145-c9a7-47c8-c722-d96bd81e94cd"
      },
      "source": [
        "\n",
        "lr_finder.plot()"
      ],
      "execution_count": 21,
      "outputs": [
        {
          "output_type": "stream",
          "text": [
            "LR suggestion: steepest gradient\n",
            "Suggested LR: 2.85E-02\n"
          ],
          "name": "stdout"
        },
        {
          "output_type": "display_data",
          "data": {
            "image/png": "[encoded data removed]",
            "text/plain": [
              "<Figure size 432x288 with 1 Axes>"
            ]
          },
          "metadata": {
            "tags": [],
            "needs_background": "light"
          }
        },
        {
          "output_type": "execute_result",
          "data": {
            "text/plain": [
              "(<matplotlib.axes._subplots.AxesSubplot at 0x7f56f24572d0>,\n",
              " 0.028480358684358022)"
            ]
          },
          "metadata": {
            "tags": []
          },
          "execution_count": 21
        }
      ]
    },
    {
      "cell_type": "code",
      "metadata": {
        "colab": {
          "base_uri": "https://localhost:8080/"
        },
        "id": "HDAgBbxl73-1",
        "outputId": "02725201-f6b8-4980-f8f3-dc630b84112a"
      },
      "source": [
        "len(train_loader)"
      ],
      "execution_count": 24,
      "outputs": [
        {
          "output_type": "execute_result",
          "data": {
            "text/plain": [
              "98"
            ]
          },
          "metadata": {
            "tags": []
          },
          "execution_count": 24
        }
      ]
    },
    {
      "cell_type": "code",
      "metadata": {
        "colab": {
          "base_uri": "https://localhost:8080/"
        },
        "id": "gkl-dWpf912R",
        "outputId": "9e176185-048f-4555-ed0e-77c8a06378f6"
      },
      "source": [
        "len(train_loader)"
      ],
      "execution_count": 23,
      "outputs": [
        {
          "output_type": "execute_result",
          "data": {
            "text/plain": [
              "98"
            ]
          },
          "metadata": {
            "tags": []
          },
          "execution_count": 23
        }
      ]
    },
    {
      "cell_type": "code",
      "metadata": {
        "colab": {
          "base_uri": "https://localhost:8080/"
        },
        "id": "67juQ1B6CkZZ",
        "outputId": "bef8c816-9c9c-43ee-9267-47093d60209c"
      },
      "source": [
        "5/24"
      ],
      "execution_count": 24,
      "outputs": [
        {
          "output_type": "execute_result",
          "data": {
            "text/plain": [
              "0.20833333333333334"
            ]
          },
          "metadata": {
            "tags": []
          },
          "execution_count": 24
        }
      ]
    },
    {
      "cell_type": "code",
      "metadata": {
        "colab": {
          "base_uri": "https://localhost:8080/"
        },
        "id": "uR3M9Hj--A7t",
        "outputId": "856f0e47-0f00-4c0f-e0ee-1628133624b0"
      },
      "source": [
        "490/(24*98)"
      ],
      "execution_count": 21,
      "outputs": [
        {
          "output_type": "execute_result",
          "data": {
            "text/plain": [
              "0.20833333333333334"
            ]
          },
          "metadata": {
            "tags": []
          },
          "execution_count": 21
        }
      ]
    },
    {
      "cell_type": "code",
      "metadata": {
        "colab": {
          "base_uri": "https://localhost:8080/",
          "height": 282
        },
        "id": "CyLshoci5xdg",
        "outputId": "3e651d0a-c34e-4a48-ab22-de83f2f5bf40"
      },
      "source": [
        "# optimizer = torch.optim.SGD(model.parameters(), lr=0.1)\n",
        "peak = 5 # epoch you want the max lr. \n",
        "EPOCHS = 24\n",
        "peak_pct = peak/EPOCHS\n",
        "scheduler = torch.optim.lr_scheduler.OneCycleLR(optimizer, max_lr=0.1, steps_per_epoch=98, epochs=24,pct_start=peak_pct, anneal_strategy='linear')\n",
        "lrs = []\n",
        "\n",
        "\n",
        "for i in range(24*98):\n",
        "    optimizer.step()\n",
        "    lrs.append(optimizer.param_groups[0][\"lr\"])\n",
        "#     print(\"Factor = \",i,\" , Learning Rate = \",optimizer.param_groups[0][\"lr\"])\n",
        "    scheduler.step()\n",
        "\n",
        "plt.plot(lrs)"
      ],
      "execution_count": 25,
      "outputs": [
        {
          "output_type": "execute_result",
          "data": {
            "text/plain": [
              "[<matplotlib.lines.Line2D at 0x7fbf0726a1d0>]"
            ]
          },
          "metadata": {
            "tags": []
          },
          "execution_count": 25
        },
        {
          "output_type": "display_data",
          "data": {
            "image/png": "[encoded data removed]",
            "text/plain": [
              "<Figure size 432x288 with 1 Axes>"
            ]
          },
          "metadata": {
            "tags": [],
            "needs_background": "light"
          }
        }
      ]
    },
    {
      "cell_type": "code",
      "metadata": {
        "colab": {
          "base_uri": "https://localhost:8080/"
        },
        "id": "sdK9R_RFZ2ts",
        "outputId": "e6426f74-11a8-4b8f-bb11-3da985c1e53e"
      },
      "source": [
        "# Input parameters for the model\n",
        "EPOCHS = 24\n",
        "l1_decay=0.000\n",
        "l2_decay=0.0\n",
        "peak = 5 # epoch you want the max lr. \n",
        "EPOCHS = 24\n",
        "peak_pct = peak/EPOCHS\n",
        "\n",
        "lrs = []\n",
        "\n",
        "# model = Net().to(device)\n",
        "\n",
        "criterion = nn.CrossEntropyLoss()\n",
        "optimizer = optim.SGD(model.parameters(), lr=0.01, momentum=0.9)\n",
        "# scheduler = StepLR(optimizer, step_size=25, gamma=0.5)\n",
        "scheduler = torch.optim.lr_scheduler.OneCycleLR(optimizer, max_lr=0.1, steps_per_epoch=len(train_loader),\n",
        "                                                epochs=EPOCHS,\n",
        "                                                pct_start=peak_pct, \n",
        "                                                anneal_strategy='linear')\n",
        "\n",
        "# run_model(model, optimizer, scheduler, EPOCHS, l1=0.0, l2=0.0)\n",
        "\n",
        "train_loss_list = []\n",
        "train_accuracy_list = []\n",
        "test_loss_list = []\n",
        "test_accuracy_list = []\n",
        "misclassified_imgs = []\n",
        "for epoch in range(EPOCHS):\n",
        "    print(\"EPOCH:\", epoch+1)\n",
        "    train_loss_list, train_accuracy_list = train(model, device, train_loader, criterion, optimizer, epoch, l1_decay, l2_decay, train_loss_list, train_accuracy_list, scheduler)\n",
        "    print(\"\\nlearning rate\", optimizer.param_groups[0]['lr'])\n",
        "    # scheduler.step()\n",
        "    # test(model1, device, test_loader, test_losses, test_acc, misclassified_imgs, epoch==EPOCHS-1)\n",
        "    test_loss_list, test_accuracy_list, misclassified_imgs = test(model, device, test_loader, criterion, classes, test_loss_list, test_accuracy_list, misclassified_imgs, epoch==EPOCHS-1)\n",
        "\n",
        "name = 'Resnet18'\n",
        "history[name] = {}\n",
        "history[name]['train_loss'] = train_loss_list\n",
        "history[name]['train_accuracy'] = train_accuracy_list\n",
        "history[name]['test_loss'] = test_loss_list\n",
        "history[name]['test_accuracy'] = test_accuracy_list\n",
        "history[name]['misclassified_imgs'] = misclassified_imgs"
      ],
      "execution_count": 16,
      "outputs": [
        {
          "output_type": "stream",
          "text": [
            "\r  0%|          | 0/98 [00:00<?, ?it/s]"
          ],
          "name": "stderr"
        },
        {
          "output_type": "stream",
          "text": [
            "EPOCH: 1\n"
          ],
          "name": "stdout"
        },
        {
          "output_type": "stream",
          "text": [
            "/usr/local/lib/python3.7/dist-packages/torch/utils/data/dataloader.py:481: UserWarning: This DataLoader will create 4 worker processes in total. Our suggested max number of worker in current system is 2, which is smaller than what this DataLoader is going to create. Please be aware that excessive worker creation might get DataLoader running slow or even freeze, lower the worker number to avoid potential slowness/freeze if necessary.\n",
            "  cpuset_checked))\n",
            "Loss=1.7871805429458618 Batch_id=97 Accuracy=38.93: 100%|██████████| 98/98 [00:24<00:00,  3.93it/s]"
          ],
          "name": "stderr"
        },
        {
          "output_type": "stream",
          "text": [
            "length of Average loss 98, length of Average accuracy 98\n",
            "\n",
            "learning rate 0.023239263803680982\n"
          ],
          "name": "stdout"
        },
        {
          "output_type": "stream",
          "text": [
            "\n",
            "  0%|          | 0/98 [00:00<?, ?it/s]"
          ],
          "name": "stderr"
        },
        {
          "output_type": "stream",
          "text": [
            "Test set: Average loss: 0.0030, Accuracy: 4766/10000 (47.66%)\n",
            "\n",
            "EPOCH: 2\n"
          ],
          "name": "stdout"
        },
        {
          "output_type": "stream",
          "text": [
            "Loss=1.1202328205108643 Batch_id=97 Accuracy=56.94: 100%|██████████| 98/98 [00:24<00:00,  3.95it/s]"
          ],
          "name": "stderr"
        },
        {
          "output_type": "stream",
          "text": [
            "length of Average loss 196, length of Average accuracy 196\n",
            "\n",
            "learning rate 0.04247852760736197\n"
          ],
          "name": "stdout"
        },
        {
          "output_type": "stream",
          "text": [
            "\n",
            "  0%|          | 0/98 [00:00<?, ?it/s]"
          ],
          "name": "stderr"
        },
        {
          "output_type": "stream",
          "text": [
            "Test set: Average loss: 0.0027, Accuracy: 6230/10000 (62.30%)\n",
            "\n",
            "EPOCH: 3\n"
          ],
          "name": "stdout"
        },
        {
          "output_type": "stream",
          "text": [
            "Loss=1.098379373550415 Batch_id=97 Accuracy=64.28: 100%|██████████| 98/98 [00:24<00:00,  3.95it/s]"
          ],
          "name": "stderr"
        },
        {
          "output_type": "stream",
          "text": [
            "length of Average loss 294, length of Average accuracy 294\n",
            "\n",
            "learning rate 0.061717791411042944\n"
          ],
          "name": "stdout"
        },
        {
          "output_type": "stream",
          "text": [
            "\n",
            "  0%|          | 0/98 [00:00<?, ?it/s]"
          ],
          "name": "stderr"
        },
        {
          "output_type": "stream",
          "text": [
            "Test set: Average loss: 0.0019, Accuracy: 7008/10000 (70.08%)\n",
            "\n",
            "EPOCH: 4\n"
          ],
          "name": "stdout"
        },
        {
          "output_type": "stream",
          "text": [
            "Loss=0.7010316848754883 Batch_id=97 Accuracy=70.90: 100%|██████████| 98/98 [00:24<00:00,  3.97it/s]"
          ],
          "name": "stderr"
        },
        {
          "output_type": "stream",
          "text": [
            "length of Average loss 392, length of Average accuracy 392\n",
            "\n",
            "learning rate 0.08095705521472393\n"
          ],
          "name": "stdout"
        },
        {
          "output_type": "stream",
          "text": [
            "\n",
            "  0%|          | 0/98 [00:00<?, ?it/s]"
          ],
          "name": "stderr"
        },
        {
          "output_type": "stream",
          "text": [
            "Test set: Average loss: 0.0022, Accuracy: 6532/10000 (65.32%)\n",
            "\n",
            "EPOCH: 5\n"
          ],
          "name": "stdout"
        },
        {
          "output_type": "stream",
          "text": [
            "Loss=0.693261444568634 Batch_id=97 Accuracy=78.25: 100%|██████████| 98/98 [00:24<00:00,  3.95it/s]"
          ],
          "name": "stderr"
        },
        {
          "output_type": "stream",
          "text": [
            "length of Average loss 490, length of Average accuracy 490\n",
            "\n",
            "learning rate 0.09994629452201934\n"
          ],
          "name": "stdout"
        },
        {
          "output_type": "stream",
          "text": [
            "\n",
            "  0%|          | 0/98 [00:00<?, ?it/s]"
          ],
          "name": "stderr"
        },
        {
          "output_type": "stream",
          "text": [
            "Test set: Average loss: 0.0021, Accuracy: 7243/10000 (72.43%)\n",
            "\n",
            "EPOCH: 6\n"
          ],
          "name": "stdout"
        },
        {
          "output_type": "stream",
          "text": [
            "Loss=0.4468925893306732 Batch_id=97 Accuracy=82.69: 100%|██████████| 98/98 [00:24<00:00,  4.00it/s]"
          ],
          "name": "stderr"
        },
        {
          "output_type": "stream",
          "text": [
            "length of Average loss 588, length of Average accuracy 588\n",
            "\n",
            "learning rate 0.09468315767991407\n"
          ],
          "name": "stdout"
        },
        {
          "output_type": "stream",
          "text": [
            "\n",
            "  0%|          | 0/98 [00:00<?, ?it/s]"
          ],
          "name": "stderr"
        },
        {
          "output_type": "stream",
          "text": [
            "Test set: Average loss: 0.0013, Accuracy: 7927/10000 (79.27%)\n",
            "\n",
            "EPOCH: 7\n"
          ],
          "name": "stdout"
        },
        {
          "output_type": "stream",
          "text": [
            "Loss=0.7030162215232849 Batch_id=97 Accuracy=87.09: 100%|██████████| 98/98 [00:24<00:00,  3.94it/s]"
          ],
          "name": "stderr"
        },
        {
          "output_type": "stream",
          "text": [
            "length of Average loss 686, length of Average accuracy 686\n",
            "\n",
            "learning rate 0.08942002083780881\n"
          ],
          "name": "stdout"
        },
        {
          "output_type": "stream",
          "text": [
            "\n",
            "  0%|          | 0/98 [00:00<?, ?it/s]"
          ],
          "name": "stderr"
        },
        {
          "output_type": "stream",
          "text": [
            "Test set: Average loss: 0.0019, Accuracy: 7756/10000 (77.56%)\n",
            "\n",
            "EPOCH: 8\n"
          ],
          "name": "stdout"
        },
        {
          "output_type": "stream",
          "text": [
            "Loss=0.2570262551307678 Batch_id=97 Accuracy=90.67: 100%|██████████| 98/98 [00:24<00:00,  3.98it/s]"
          ],
          "name": "stderr"
        },
        {
          "output_type": "stream",
          "text": [
            "length of Average loss 784, length of Average accuracy 784\n",
            "\n",
            "learning rate 0.08415688399570355\n"
          ],
          "name": "stdout"
        },
        {
          "output_type": "stream",
          "text": [
            "\n",
            "  0%|          | 0/98 [00:00<?, ?it/s]"
          ],
          "name": "stderr"
        },
        {
          "output_type": "stream",
          "text": [
            "Test set: Average loss: 0.0014, Accuracy: 8068/10000 (80.68%)\n",
            "\n",
            "EPOCH: 9\n"
          ],
          "name": "stdout"
        },
        {
          "output_type": "stream",
          "text": [
            "Loss=0.1867191046476364 Batch_id=97 Accuracy=93.88: 100%|██████████| 98/98 [00:24<00:00,  3.97it/s]"
          ],
          "name": "stderr"
        },
        {
          "output_type": "stream",
          "text": [
            "length of Average loss 882, length of Average accuracy 882\n",
            "\n",
            "learning rate 0.07889374715359829\n"
          ],
          "name": "stdout"
        },
        {
          "output_type": "stream",
          "text": [
            "\n",
            "  0%|          | 0/98 [00:00<?, ?it/s]"
          ],
          "name": "stderr"
        },
        {
          "output_type": "stream",
          "text": [
            "Test set: Average loss: 0.0012, Accuracy: 8375/10000 (83.75%)\n",
            "\n",
            "EPOCH: 10\n"
          ],
          "name": "stdout"
        },
        {
          "output_type": "stream",
          "text": [
            "Loss=0.1178678646683693 Batch_id=97 Accuracy=95.33: 100%|██████████| 98/98 [00:24<00:00,  3.95it/s]"
          ],
          "name": "stderr"
        },
        {
          "output_type": "stream",
          "text": [
            "length of Average loss 980, length of Average accuracy 980\n",
            "\n",
            "learning rate 0.07363061031149301\n"
          ],
          "name": "stdout"
        },
        {
          "output_type": "stream",
          "text": [
            "\n",
            "  0%|          | 0/98 [00:00<?, ?it/s]"
          ],
          "name": "stderr"
        },
        {
          "output_type": "stream",
          "text": [
            "Test set: Average loss: 0.0014, Accuracy: 8249/10000 (82.49%)\n",
            "\n",
            "EPOCH: 11\n"
          ],
          "name": "stdout"
        },
        {
          "output_type": "stream",
          "text": [
            "Loss=0.10550696402788162 Batch_id=97 Accuracy=97.34: 100%|██████████| 98/98 [00:24<00:00,  3.93it/s]"
          ],
          "name": "stderr"
        },
        {
          "output_type": "stream",
          "text": [
            "length of Average loss 1078, length of Average accuracy 1078\n",
            "\n",
            "learning rate 0.06836747346938776\n"
          ],
          "name": "stdout"
        },
        {
          "output_type": "stream",
          "text": [
            "\n",
            "  0%|          | 0/98 [00:00<?, ?it/s]"
          ],
          "name": "stderr"
        },
        {
          "output_type": "stream",
          "text": [
            "Test set: Average loss: 0.0013, Accuracy: 8473/10000 (84.73%)\n",
            "\n",
            "EPOCH: 12\n"
          ],
          "name": "stdout"
        },
        {
          "output_type": "stream",
          "text": [
            "Loss=0.061883535236120224 Batch_id=97 Accuracy=97.88: 100%|██████████| 98/98 [00:24<00:00,  3.97it/s]"
          ],
          "name": "stderr"
        },
        {
          "output_type": "stream",
          "text": [
            "length of Average loss 1176, length of Average accuracy 1176\n",
            "\n",
            "learning rate 0.06310433662728249\n"
          ],
          "name": "stdout"
        },
        {
          "output_type": "stream",
          "text": [
            "\n",
            "  0%|          | 0/98 [00:00<?, ?it/s]"
          ],
          "name": "stderr"
        },
        {
          "output_type": "stream",
          "text": [
            "Test set: Average loss: 0.0013, Accuracy: 8413/10000 (84.13%)\n",
            "\n",
            "EPOCH: 13\n"
          ],
          "name": "stdout"
        },
        {
          "output_type": "stream",
          "text": [
            "Loss=0.05602535605430603 Batch_id=97 Accuracy=98.57: 100%|██████████| 98/98 [00:24<00:00,  3.96it/s]"
          ],
          "name": "stderr"
        },
        {
          "output_type": "stream",
          "text": [
            "length of Average loss 1274, length of Average accuracy 1274\n",
            "\n",
            "learning rate 0.05784119978517723\n"
          ],
          "name": "stdout"
        },
        {
          "output_type": "stream",
          "text": [
            "\n",
            "  0%|          | 0/98 [00:00<?, ?it/s]"
          ],
          "name": "stderr"
        },
        {
          "output_type": "stream",
          "text": [
            "\n",
            "Accuracy of plane : 71 %\n",
            "Accuracy of   car : 100 %\n",
            "Accuracy of  bird : 77 %\n",
            "Accuracy of   cat : 75 %\n",
            "Accuracy of  deer : 85 %\n",
            "Accuracy of   dog : 70 %\n",
            "Accuracy of  frog : 77 %\n",
            "Accuracy of horse : 77 %\n",
            "Accuracy of  ship : 80 %\n",
            "Accuracy of truck : 81 %\n",
            "\n",
            "Test set: Average loss: 0.0013, Accuracy: 8556/10000 (85.56%)\n",
            "\n",
            "EPOCH: 14\n"
          ],
          "name": "stdout"
        },
        {
          "output_type": "stream",
          "text": [
            "Loss=0.038837309926748276 Batch_id=97 Accuracy=98.56: 100%|██████████| 98/98 [00:25<00:00,  3.89it/s]"
          ],
          "name": "stderr"
        },
        {
          "output_type": "stream",
          "text": [
            "length of Average loss 1372, length of Average accuracy 1372\n",
            "\n",
            "learning rate 0.05257806294307197\n"
          ],
          "name": "stdout"
        },
        {
          "output_type": "stream",
          "text": [
            "\n",
            "  0%|          | 0/98 [00:00<?, ?it/s]"
          ],
          "name": "stderr"
        },
        {
          "output_type": "stream",
          "text": [
            "\n",
            "Accuracy of plane : 100 %\n",
            "Accuracy of   car : 100 %\n",
            "Accuracy of  bird : 90 %\n",
            "Accuracy of   cat : 83 %\n",
            "Accuracy of  deer : 100 %\n",
            "Accuracy of   dog : 90 %\n",
            "Accuracy of  frog : 100 %\n",
            "Accuracy of horse : 100 %\n",
            "Accuracy of  ship : 100 %\n",
            "Accuracy of truck : 83 %\n",
            "\n",
            "Test set: Average loss: 0.0013, Accuracy: 8584/10000 (85.84%)\n",
            "\n",
            "EPOCH: 15\n"
          ],
          "name": "stdout"
        },
        {
          "output_type": "stream",
          "text": [
            "Loss=0.018182365223765373 Batch_id=97 Accuracy=99.10: 100%|██████████| 98/98 [00:24<00:00,  3.95it/s]"
          ],
          "name": "stderr"
        },
        {
          "output_type": "stream",
          "text": [
            "length of Average loss 1470, length of Average accuracy 1470\n",
            "\n",
            "learning rate 0.0473149261009667\n"
          ],
          "name": "stdout"
        },
        {
          "output_type": "stream",
          "text": [
            "\n",
            "  0%|          | 0/98 [00:00<?, ?it/s]"
          ],
          "name": "stderr"
        },
        {
          "output_type": "stream",
          "text": [
            "\n",
            "Accuracy of plane : 83 %\n",
            "Accuracy of   car : 100 %\n",
            "Accuracy of  bird : 80 %\n",
            "Accuracy of   cat : 85 %\n",
            "Accuracy of  deer : 60 %\n",
            "Accuracy of   dog : 80 %\n",
            "Accuracy of  frog : 83 %\n",
            "Accuracy of horse : 100 %\n",
            "Accuracy of  ship : 100 %\n",
            "Accuracy of truck : 80 %\n",
            "\n",
            "Test set: Average loss: 0.0013, Accuracy: 8563/10000 (85.63%)\n",
            "\n",
            "EPOCH: 16\n"
          ],
          "name": "stdout"
        },
        {
          "output_type": "stream",
          "text": [
            "Loss=0.018012765794992447 Batch_id=97 Accuracy=99.20: 100%|██████████| 98/98 [00:25<00:00,  3.88it/s]"
          ],
          "name": "stderr"
        },
        {
          "output_type": "stream",
          "text": [
            "length of Average loss 1568, length of Average accuracy 1568\n",
            "\n",
            "learning rate 0.042051789258861445\n"
          ],
          "name": "stdout"
        },
        {
          "output_type": "stream",
          "text": [
            "\n",
            "  0%|          | 0/98 [00:00<?, ?it/s]"
          ],
          "name": "stderr"
        },
        {
          "output_type": "stream",
          "text": [
            "\n",
            "Accuracy of plane : 100 %\n",
            "Accuracy of   car : 100 %\n",
            "Accuracy of  bird : 93 %\n",
            "Accuracy of   cat : 44 %\n",
            "Accuracy of  deer : 66 %\n",
            "Accuracy of   dog : 66 %\n",
            "Accuracy of  frog : 100 %\n",
            "Accuracy of horse : 100 %\n",
            "Accuracy of  ship : 66 %\n",
            "Accuracy of truck : 100 %\n",
            "\n",
            "Test set: Average loss: 0.0012, Accuracy: 8624/10000 (86.24%)\n",
            "\n",
            "EPOCH: 17\n"
          ],
          "name": "stdout"
        },
        {
          "output_type": "stream",
          "text": [
            "Loss=0.02886877954006195 Batch_id=97 Accuracy=99.40: 100%|██████████| 98/98 [00:25<00:00,  3.90it/s]"
          ],
          "name": "stderr"
        },
        {
          "output_type": "stream",
          "text": [
            "length of Average loss 1666, length of Average accuracy 1666\n",
            "\n",
            "learning rate 0.036788652416756176\n"
          ],
          "name": "stdout"
        },
        {
          "output_type": "stream",
          "text": [
            "\n",
            "  0%|          | 0/98 [00:00<?, ?it/s]"
          ],
          "name": "stderr"
        },
        {
          "output_type": "stream",
          "text": [
            "\n",
            "Accuracy of plane : 92 %\n",
            "Accuracy of   car : 87 %\n",
            "Accuracy of  bird : 100 %\n",
            "Accuracy of   cat : 50 %\n",
            "Accuracy of  deer : 88 %\n",
            "Accuracy of   dog : 80 %\n",
            "Accuracy of  frog : 100 %\n",
            "Accuracy of horse : 100 %\n",
            "Accuracy of  ship : 87 %\n",
            "Accuracy of truck : 100 %\n",
            "\n",
            "Test set: Average loss: 0.0012, Accuracy: 8704/10000 (87.04%)\n",
            "\n",
            "EPOCH: 18\n"
          ],
          "name": "stdout"
        },
        {
          "output_type": "stream",
          "text": [
            "Loss=0.008435836061835289 Batch_id=97 Accuracy=99.56: 100%|██████████| 98/98 [00:25<00:00,  3.91it/s]"
          ],
          "name": "stderr"
        },
        {
          "output_type": "stream",
          "text": [
            "length of Average loss 1764, length of Average accuracy 1764\n",
            "\n",
            "learning rate 0.031525515574650914\n"
          ],
          "name": "stdout"
        },
        {
          "output_type": "stream",
          "text": [
            "\n",
            "  0%|          | 0/98 [00:00<?, ?it/s]"
          ],
          "name": "stderr"
        },
        {
          "output_type": "stream",
          "text": [
            "\n",
            "Accuracy of plane : 60 %\n",
            "Accuracy of   car : 81 %\n",
            "Accuracy of  bird : 88 %\n",
            "Accuracy of   cat : 62 %\n",
            "Accuracy of  deer : 75 %\n",
            "Accuracy of   dog : 71 %\n",
            "Accuracy of  frog : 83 %\n",
            "Accuracy of horse : 100 %\n",
            "Accuracy of  ship : 100 %\n",
            "Accuracy of truck : 100 %\n",
            "\n",
            "Test set: Average loss: 0.0013, Accuracy: 8625/10000 (86.25%)\n",
            "\n",
            "EPOCH: 19\n"
          ],
          "name": "stdout"
        },
        {
          "output_type": "stream",
          "text": [
            "Loss=0.020803680643439293 Batch_id=97 Accuracy=99.58: 100%|██████████| 98/98 [00:24<00:00,  3.93it/s]"
          ],
          "name": "stderr"
        },
        {
          "output_type": "stream",
          "text": [
            "length of Average loss 1862, length of Average accuracy 1862\n",
            "\n",
            "learning rate 0.026262378732545652\n"
          ],
          "name": "stdout"
        },
        {
          "output_type": "stream",
          "text": [
            "\n",
            "  0%|          | 0/98 [00:00<?, ?it/s]"
          ],
          "name": "stderr"
        },
        {
          "output_type": "stream",
          "text": [
            "\n",
            "Accuracy of plane : 91 %\n",
            "Accuracy of   car : 100 %\n",
            "Accuracy of  bird : 83 %\n",
            "Accuracy of   cat : 33 %\n",
            "Accuracy of  deer : 100 %\n",
            "Accuracy of   dog : 60 %\n",
            "Accuracy of  frog : 92 %\n",
            "Accuracy of horse : 100 %\n",
            "Accuracy of  ship : 66 %\n",
            "Accuracy of truck : 100 %\n",
            "\n",
            "Test set: Average loss: 0.0013, Accuracy: 8693/10000 (86.93%)\n",
            "\n",
            "EPOCH: 20\n"
          ],
          "name": "stdout"
        },
        {
          "output_type": "stream",
          "text": [
            "Loss=0.014872020110487938 Batch_id=97 Accuracy=99.69: 100%|██████████| 98/98 [00:25<00:00,  3.91it/s]"
          ],
          "name": "stderr"
        },
        {
          "output_type": "stream",
          "text": [
            "length of Average loss 1960, length of Average accuracy 1960\n",
            "\n",
            "learning rate 0.020999241890440376\n"
          ],
          "name": "stdout"
        },
        {
          "output_type": "stream",
          "text": [
            "\n",
            "  0%|          | 0/98 [00:00<?, ?it/s]"
          ],
          "name": "stderr"
        },
        {
          "output_type": "stream",
          "text": [
            "\n",
            "Accuracy of plane : 83 %\n",
            "Accuracy of   car : 100 %\n",
            "Accuracy of  bird : 100 %\n",
            "Accuracy of   cat : 50 %\n",
            "Accuracy of  deer : 88 %\n",
            "Accuracy of   dog : 75 %\n",
            "Accuracy of  frog : 100 %\n",
            "Accuracy of horse : 100 %\n",
            "Accuracy of  ship : 81 %\n",
            "Accuracy of truck : 83 %\n",
            "\n",
            "Test set: Average loss: 0.0012, Accuracy: 8786/10000 (87.86%)\n",
            "\n",
            "EPOCH: 21\n"
          ],
          "name": "stdout"
        },
        {
          "output_type": "stream",
          "text": [
            "Loss=0.011405299417674541 Batch_id=97 Accuracy=99.73: 100%|██████████| 98/98 [00:25<00:00,  3.90it/s]"
          ],
          "name": "stderr"
        },
        {
          "output_type": "stream",
          "text": [
            "length of Average loss 2058, length of Average accuracy 2058\n",
            "\n",
            "learning rate 0.015736105048335128\n"
          ],
          "name": "stdout"
        },
        {
          "output_type": "stream",
          "text": [
            "\n",
            "  0%|          | 0/98 [00:00<?, ?it/s]"
          ],
          "name": "stderr"
        },
        {
          "output_type": "stream",
          "text": [
            "\n",
            "Accuracy of plane : 100 %\n",
            "Accuracy of   car : 100 %\n",
            "Accuracy of  bird : 75 %\n",
            "Accuracy of   cat : 87 %\n",
            "Accuracy of  deer : 82 %\n",
            "Accuracy of   dog : 100 %\n",
            "Accuracy of  frog : 80 %\n",
            "Accuracy of horse : 100 %\n",
            "Accuracy of  ship : 100 %\n",
            "Accuracy of truck : 100 %\n",
            "\n",
            "Test set: Average loss: 0.0012, Accuracy: 8797/10000 (87.97%)\n",
            "\n",
            "EPOCH: 22\n"
          ],
          "name": "stdout"
        },
        {
          "output_type": "stream",
          "text": [
            "Loss=0.005953368730843067 Batch_id=97 Accuracy=99.76: 100%|██████████| 98/98 [00:25<00:00,  3.88it/s]"
          ],
          "name": "stderr"
        },
        {
          "output_type": "stream",
          "text": [
            "length of Average loss 2156, length of Average accuracy 2156\n",
            "\n",
            "learning rate 0.010472968206229852\n"
          ],
          "name": "stdout"
        },
        {
          "output_type": "stream",
          "text": [
            "\n",
            "  0%|          | 0/98 [00:00<?, ?it/s]"
          ],
          "name": "stderr"
        },
        {
          "output_type": "stream",
          "text": [
            "\n",
            "Accuracy of plane : 90 %\n",
            "Accuracy of   car : 50 %\n",
            "Accuracy of  bird : 100 %\n",
            "Accuracy of   cat : 66 %\n",
            "Accuracy of  deer : 66 %\n",
            "Accuracy of   dog : 87 %\n",
            "Accuracy of  frog : 100 %\n",
            "Accuracy of horse : 100 %\n",
            "Accuracy of  ship : 66 %\n",
            "Accuracy of truck : 66 %\n",
            "\n",
            "Test set: Average loss: 0.0012, Accuracy: 8773/10000 (87.73%)\n",
            "\n",
            "EPOCH: 23\n"
          ],
          "name": "stdout"
        },
        {
          "output_type": "stream",
          "text": [
            "Loss=0.007401624694466591 Batch_id=97 Accuracy=99.84: 100%|██████████| 98/98 [00:24<00:00,  3.93it/s]"
          ],
          "name": "stderr"
        },
        {
          "output_type": "stream",
          "text": [
            "length of Average loss 2254, length of Average accuracy 2254\n",
            "\n",
            "learning rate 0.005209831364124604\n"
          ],
          "name": "stdout"
        },
        {
          "output_type": "stream",
          "text": [
            "\n",
            "  0%|          | 0/98 [00:00<?, ?it/s]"
          ],
          "name": "stderr"
        },
        {
          "output_type": "stream",
          "text": [
            "\n",
            "Accuracy of plane : 100 %\n",
            "Accuracy of   car : 100 %\n",
            "Accuracy of  bird : 71 %\n",
            "Accuracy of   cat : 62 %\n",
            "Accuracy of  deer : 90 %\n",
            "Accuracy of   dog : 85 %\n",
            "Accuracy of  frog : 90 %\n",
            "Accuracy of horse : 75 %\n",
            "Accuracy of  ship : 91 %\n",
            "Accuracy of truck : 100 %\n",
            "\n",
            "Test set: Average loss: 0.0011, Accuracy: 8833/10000 (88.33%)\n",
            "\n",
            "EPOCH: 24\n"
          ],
          "name": "stdout"
        },
        {
          "output_type": "stream",
          "text": [
            "Loss=0.0017089380417019129 Batch_id=97 Accuracy=99.86: 100%|██████████| 98/98 [00:25<00:00,  3.91it/s]"
          ],
          "name": "stderr"
        },
        {
          "output_type": "stream",
          "text": [
            "length of Average loss 2352, length of Average accuracy 2352\n",
            "\n",
            "learning rate -5.3305477980658544e-05\n"
          ],
          "name": "stdout"
        },
        {
          "output_type": "stream",
          "text": [
            "\n"
          ],
          "name": "stderr"
        },
        {
          "output_type": "stream",
          "text": [
            "\n",
            "Accuracy of plane : 100 %\n",
            "Accuracy of   car : 100 %\n",
            "Accuracy of  bird : 100 %\n",
            "Accuracy of   cat : 60 %\n",
            "Accuracy of  deer : 90 %\n",
            "Accuracy of   dog : 90 %\n",
            "Accuracy of  frog : 87 %\n",
            "Accuracy of horse : 100 %\n",
            "Accuracy of  ship : 100 %\n",
            "Accuracy of truck : 75 %\n",
            "\n",
            "Test set: Average loss: 0.0011, Accuracy: 8836/10000 (88.36%)\n",
            "\n"
          ],
          "name": "stdout"
        }
      ]
    },
    {
      "cell_type": "code",
      "metadata": {
        "id": "RNVjesXeZ2qb"
      },
      "source": [
        ""
      ],
      "execution_count": null,
      "outputs": []
    },
    {
      "cell_type": "code",
      "metadata": {
        "id": "hMRkpOrmZ2bb"
      },
      "source": [
        ""
      ],
      "execution_count": null,
      "outputs": []
    },
    {
      "cell_type": "code",
      "metadata": {
        "id": "Rn3gl_AqZ2Xc"
      },
      "source": [
        "\n",
        "\n",
        "class Net2(nn.Module):\n",
        "    def get_bn(self, out_features, channel_size, norm_type, num_groups):\n",
        "        if norm_type==\"BN\":\n",
        "          m = nn.BatchNorm2d(out_features)\n",
        "        elif norm_type == \"LN\":\n",
        "          m = nn.LayerNorm((out_features, channel_size, channel_size))\n",
        "        elif norm_type == \"GN\":\n",
        "          if (out_features % num_groups) != 0:\n",
        "            print('Error: the number of groups should be divisible by output features')\n",
        "          else:\n",
        "            m = nn.GroupNorm(num_groups, out_features)\n",
        "        return m\n",
        "\n",
        "\n",
        "    def conv_block(self, in_features, out_features, kernel_size, input_channel_size, Norm_type, num_groups, pading=0, last_block=True):\n",
        "      # convolution\n",
        "      layers = []\n",
        "      layers = [nn.Conv2d(in_features, out_features, kernel_size, padding=pading, bias=False), nn.ReLU()]\n",
        "      out_img_size, _ = conv_output_shape(input_channel_size, kernel_size, stride=1,pad=pading,dilation=1) # get the image size after convolution\n",
        "\n",
        "      #Generate Normalization\n",
        "      norm_list = ['BN', 'LN', 'GN'] # this is the list of normalization that is allowed. \n",
        "      if (Norm_type in norm_list) and (kernel_size != 1) and (last_block):   # Check if normalization is in the list, or if its not 1x1 or if its not last block. \n",
        "        BN = self.get_bn(out_features, out_img_size, Norm_type, num_groups)\n",
        "        layers.append(BN)\n",
        "\n",
        "      # Add Dropout - Check if its not last block or 1x1 convolution.   \n",
        "      if kernel_size !=1 and last_block :\n",
        "        layers.append(nn.Dropout(dropout_value))\n",
        "      block = nn.Sequential(*layers)\n",
        "      return block, out_img_size\n",
        "\n",
        "    def max_pool_block(self, kernal_size, stride, img_size):\n",
        "        pool = nn.MaxPool2d(kernal_size, stride) # output_size = 13\n",
        "        out_img_size,_ = conv_output_shape(img_size,kernal_size, stride)\n",
        "        return pool, out_img_size\n",
        "\n",
        "    def __init__(self, Norm_type=\"\", input_img_size=(1,28,28), num_groups=2):\n",
        "        super(Net2, self).__init__()\n",
        "        self.convblock1, img_size = self.conv_block(1,8,3,input_img_size[1],Norm_type,num_groups) # input kernal, output_kernals, convolution, input image size, padding, normalization type #26\n",
        "        self.convblock2, img_size = self.conv_block(8,16,3,img_size,Norm_type,num_groups) #24\n",
        "        self.pool1, img_size = self.max_pool_block(2,2, img_size)  #12\n",
        "        self.convblock4, img_size = self.conv_block(16,8,1,img_size,Norm_type,num_groups) #12\n",
        "        self.convblock5, img_size = self.conv_block(8,16,3,img_size,Norm_type,num_groups) #10\n",
        "        self.convblock6, img_size = self.conv_block(16,20,3,img_size,Norm_type,num_groups) #8\n",
        "        self.convblock7, img_size = self.conv_block(20,8,1,img_size,Norm_type,num_groups) #8\n",
        "        self.convblock8, img_size = self.conv_block(8,16,3,img_size,Norm_type, num_groups, last_block=False) #6\n",
        "\n",
        "        self.gap = nn.Sequential(nn.AvgPool2d(kernel_size=6)) # output_size = 1\n",
        "        self.fc1 = nn.Linear(16, 10)\n",
        "\n",
        "    def forward(self, x):\n",
        "        x = self.convblock1(x)\n",
        "        x = self.convblock2(x)\n",
        "        #x = self.convblock3(x)\n",
        "        x = self.pool1(x)\n",
        "        x = self.convblock4(x)\n",
        "        x = self.convblock5(x)\n",
        "        x = self.convblock6(x)\n",
        "        x = self.convblock7(x)\n",
        "        x = self.convblock8(x)\n",
        "        x = self.gap(x)\n",
        "        x = x.view(-1, x.shape[1]*x.shape[2]*x.shape[3])\n",
        "        x = self.fc1(x)\n",
        "        x = x.view(-1, 10)\n",
        "        return F.log_softmax(x, dim=-1)\n",
        "\n",
        "temp = Net2(\"BN\", input_img_size=(1, 28, 28), num_groups=2).to(device)\n",
        "summary(temp, input_size=(1, 28, 28))"
      ],
      "execution_count": null,
      "outputs": []
    }
  ]
}